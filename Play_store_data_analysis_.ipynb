{
  "nbformat": 4,
  "nbformat_minor": 0,
  "metadata": {
    "colab": {
      "private_outputs": true,
      "provenance": [],
      "collapsed_sections": [
        "vncDsAP0Gaoa",
        "FJNUwmbgGyua",
        "w6K7xa23Elo4",
        "DpeJGUA3kjGy",
        "PH-0ReGfmX4f",
        "mDgbUHAGgjLW",
        "O_i_v8NEhb9l",
        "HhfV-JJviCcP",
        "Y3lxredqlCYt",
        "3RnN4peoiCZX",
        "x71ZqKXriCWQ",
        "7hBIi_osiCS2",
        "JlHwYmJAmNHm",
        "35m5QtbWiB9F",
        "PoPl-ycgm1ru",
        "H0kj-8xxnORC",
        "nA9Y7ga8ng1Z",
        "PBTbrJXOngz2",
        "dauF4eBmngu3",
        "bKJF3rekwFvQ",
        "mMTRqFPXGmEH",
        "_1he_FNYFaO5",
        "GF8Ens_Soomf",
        "0wOQAZs5pc--",
        "KSlN3yHqYklG",
        "EM7whBJCYoAo",
        "fge-S5ZAYoAp",
        "4Of9eVA-YrdM",
        "bamQiAODYuh1",
        "OH-pJp9IphqM",
        "PIIx-8_IphqN",
        "YJ55k-q6phqO",
        "JMzcOPDDphqR",
        "X_VqEhTip1ck",
        "8zGJKyg5p1ck",
        "PVzmfK_Ep1ck",
        "ylSl6qgtp1ck",
        "ZWILFDl5p1ck",
        "M7G43BXep1ck",
        "E6MkPsBcp1cl",
        "2cELzS2fp1cl",
        "3MPXvC8up1cl",
        "UV0SzAkaZNRQ",
        "YPEH6qLeZNRQ",
        "22aHeOlLveiV",
        "JcMwzZxoAimU",
        "8G2x9gOozGDZ",
        "gCX9965dhzqZ",
        "gIfDvo9L0UH2"
      ],
      "include_colab_link": true
    },
    "kernelspec": {
      "name": "python3",
      "display_name": "Python 3"
    },
    "language_info": {
      "name": "python"
    }
  },
  "cells": [
    {
      "cell_type": "markdown",
      "metadata": {
        "id": "view-in-github",
        "colab_type": "text"
      },
      "source": [
        "<a href=\"https://colab.research.google.com/github/dj1550/CAPSTON-PROJECT-2-Play-Store-Data-Analysis/blob/main/Play_store_data_analysis_.ipynb\" target=\"_parent\"><img src=\"https://colab.research.google.com/assets/colab-badge.svg\" alt=\"Open In Colab\"/></a>"
      ]
    },
    {
      "cell_type": "markdown",
      "source": [
        "# **Project Name**    -\n",
        "\n"
      ],
      "metadata": {
        "id": "vncDsAP0Gaoa"
      }
    },
    {
      "cell_type": "markdown",
      "source": [
        "##### **Project Type**    - EDA\n",
        "##### **Contribution**    - Individual (DEEPAK VISHWAKARMA)\n"
      ],
      "metadata": {
        "id": "beRrZCGUAJYm"
      }
    },
    {
      "cell_type": "markdown",
      "source": [
        "# **Project Summary -**"
      ],
      "metadata": {
        "id": "FJNUwmbgGyua"
      }
    },
    {
      "cell_type": "markdown",
      "source": [
        "📱 Hi everybody !\n",
        "In this notebook, I'm gonna analyze Google Play Store datas. While I was analyzing the data, I used Python. This study is my first data analyzing study.\n",
        "\n",
        "Google Play Store apps and reviews Mobile apps are everywhere. They are easy to create and can be lucrative. Because of these two factors, more and more apps are being developed. In this notebook, we will do a comprehensive analysis of the Android app market by comparing over ten thousand apps in Google Play across different categories. We'll look for insights in the data to devise strategies to drive growth and retention.\n",
        "\n",
        "Let's take a look at the data, which consists of two files:\n",
        "\n",
        "playstore data.csv: contains all the details of the applications on Google Play. There are 13 features that describe a given app.\n",
        "user_reviews.csv: contains 100 reviews for each app, most helpful first. The text in each review has been pre-processed and attributed with three new features: Sentiment (Positive, Negative or Neutral), Sentiment Polarity and Sentiment Subjectivity."
      ],
      "metadata": {
        "id": "F6v_1wHtG2nS"
      }
    },
    {
      "cell_type": "markdown",
      "source": [
        "# **GitHub Link -**"
      ],
      "metadata": {
        "id": "w6K7xa23Elo4"
      }
    },
    {
      "cell_type": "markdown",
      "source": [
        "Provide your GitHub Link here."
      ],
      "metadata": {
        "id": "h1o69JH3Eqqn"
      }
    },
    {
      "cell_type": "markdown",
      "source": [
        "# **Problem Statement**\n"
      ],
      "metadata": {
        "id": "yQaldy8SH6Dl"
      }
    },
    {
      "cell_type": "markdown",
      "source": [
        "# **Problem Statements**\n",
        "1. What are the top categories on Play Store?\n",
        "2. Are majority of the apps Paid or Free?\n",
        "3. How importance is the rating of the application?\n",
        "4. Which categories from the audience should the app be based on?\n",
        "5. Which category has the most no. of installations?\n",
        "6. How does the count of apps varies by Genres?\n",
        "\n",
        "8. How are ratings affected when the app is a paid one?\n",
        "9. How are reviews and ratings co-related?\n",
        "11. Is subjectivity and polarity proportional to each other?\n",
        "12. What is the percentage of review sentiments?\n",
        "13. How is sentiment polarity varying for paid and free apps?\n",
        "14. How Content Rating affect over the App?\n",
        "\n"
      ],
      "metadata": {
        "id": "DpeJGUA3kjGy"
      }
    },
    {
      "cell_type": "markdown",
      "source": [
        "#### **Define Your Business Objective?**"
      ],
      "metadata": {
        "id": "PH-0ReGfmX4f"
      }
    },
    {
      "cell_type": "markdown",
      "source": [
        "The Play Store apps data has enormous potential to drive app-making businesses to success. Actionable insights can be drawn for developers to work on and capture the Android market.\n",
        "Each app (row) has values for catergory, rating, size, and more. Another dataset contains customer reviews of the android apps.\n",
        "Explore and analyze the data to discover key factors responsible for app engagement and success."
      ],
      "metadata": {
        "id": "PhDvGCAqmjP1"
      }
    },
    {
      "cell_type": "markdown",
      "source": [
        "# **General Guidelines** : -  "
      ],
      "metadata": {
        "id": "mDgbUHAGgjLW"
      }
    },
    {
      "cell_type": "markdown",
      "source": [
        "1.   Well-structured, formatted, and commented code is required.\n",
        "2.   Exception Handling, Production Grade Code & Deployment Ready Code will be a plus. Those students will be awarded some additional credits.\n",
        "     \n",
        "     The additional credits will have advantages over other students during Star Student selection.\n",
        "       \n",
        "             [ Note: - Deployment Ready Code is defined as, the whole .ipynb notebook should be executable in one go\n",
        "                       without a single error logged. ]\n",
        "\n",
        "3.   Each and every logic should have proper comments.\n",
        "4. You may add as many number of charts you want. Make Sure for each and every chart the following format should be answered.\n",
        "        \n",
        "\n",
        "```\n",
        "# Chart visualization code\n",
        "```\n",
        "            \n",
        "\n",
        "*   Why did you pick the specific chart?\n",
        "*   What is/are the insight(s) found from the chart?\n",
        "* Will the gained insights help creating a positive business impact?\n",
        "Are there any insights that lead to negative growth? Justify with specific reason.\n",
        "\n",
        "5. You have to create at least 20 logical & meaningful charts having important insights.\n",
        "\n",
        "\n",
        "[ Hints : - Do the Vizualization in  a structured way while following \"UBM\" Rule.\n",
        "\n",
        "U - Univariate Analysis,\n",
        "\n",
        "B - Bivariate Analysis (Numerical - Categorical, Numerical - Numerical, Categorical - Categorical)\n",
        "\n",
        "M - Multivariate Analysis\n",
        " ]\n",
        "\n",
        "\n",
        "\n"
      ],
      "metadata": {
        "id": "ZrxVaUj-hHfC"
      }
    },
    {
      "cell_type": "markdown",
      "source": [
        "# ***Let's Begin !***"
      ],
      "metadata": {
        "id": "O_i_v8NEhb9l"
      }
    },
    {
      "cell_type": "markdown",
      "source": [
        "## ***1. Know Your Data***"
      ],
      "metadata": {
        "id": "HhfV-JJviCcP"
      }
    },
    {
      "cell_type": "markdown",
      "source": [
        "### Import Libraries"
      ],
      "metadata": {
        "id": "Y3lxredqlCYt"
      }
    },
    {
      "cell_type": "code",
      "source": [
        "# Import Libraries\n",
        "import numpy as np\n",
        "import pandas as pd\n",
        "import matplotlib.pyplot as plt\n",
        "import seaborn as sns"
      ],
      "metadata": {
        "id": "M8Vqi-pPk-HR"
      },
      "execution_count": null,
      "outputs": []
    },
    {
      "cell_type": "markdown",
      "source": [
        "### Dataset Loading"
      ],
      "metadata": {
        "id": "3RnN4peoiCZX"
      }
    },
    {
      "cell_type": "code",
      "source": [
        "from google.colab import drive\n",
        "drive.mount('/content/drive')"
      ],
      "metadata": {
        "id": "M-DtKD7-435I"
      },
      "execution_count": null,
      "outputs": []
    },
    {
      "cell_type": "code",
      "source": [
        "# Load Play store Dataset\n",
        "path='/content/drive/MyDrive/datasets/Play Store App Review Analysis/Play Store Data.csv'\n",
        "ps_data=pd.read_csv(path)"
      ],
      "metadata": {
        "id": "4CkvbW_SlZ_R"
      },
      "execution_count": null,
      "outputs": []
    },
    {
      "cell_type": "markdown",
      "source": [
        "### Dataset First View"
      ],
      "metadata": {
        "id": "x71ZqKXriCWQ"
      }
    },
    {
      "cell_type": "code",
      "source": [
        "# Dataset First Look\n",
        "ps_data"
      ],
      "metadata": {
        "id": "LWNFOSvLl09H"
      },
      "execution_count": null,
      "outputs": []
    },
    {
      "cell_type": "markdown",
      "source": [
        "### Dataset Rows & Columns count"
      ],
      "metadata": {
        "id": "7hBIi_osiCS2"
      }
    },
    {
      "cell_type": "code",
      "source": [
        "# Dataset Rows & Columns count\n",
        "ps_data.shape"
      ],
      "metadata": {
        "id": "Kllu7SJgmLij"
      },
      "execution_count": null,
      "outputs": []
    },
    {
      "cell_type": "markdown",
      "source": [
        "play_store dataframe has 10841 rows and 13 columns"
      ],
      "metadata": {
        "id": "wig3SDKC_Yz6"
      }
    },
    {
      "cell_type": "markdown",
      "source": [
        "### Dataset Information"
      ],
      "metadata": {
        "id": "JlHwYmJAmNHm"
      }
    },
    {
      "cell_type": "code",
      "source": [
        "# Dataset Info\n",
        "ps_data.info()"
      ],
      "metadata": {
        "id": "e9hRXRi6meOf"
      },
      "execution_count": null,
      "outputs": []
    },
    {
      "cell_type": "markdown",
      "source": [
        "#### Duplicate Values"
      ],
      "metadata": {
        "id": "35m5QtbWiB9F"
      }
    },
    {
      "cell_type": "code",
      "source": [
        "# Dataset Duplicate Value Count\n",
        "ps_data['App'].duplicated().value_counts()"
      ],
      "metadata": {
        "id": "1sLdpKYkmox0"
      },
      "execution_count": null,
      "outputs": []
    },
    {
      "cell_type": "markdown",
      "source": [
        "The play store data has 1181 duplicate values for any App"
      ],
      "metadata": {
        "id": "4ePAZ2TI_kpx"
      }
    },
    {
      "cell_type": "markdown",
      "source": [
        "#### Missing Values/Null Values , Unique values , percentage of null values"
      ],
      "metadata": {
        "id": "PoPl-ycgm1ru"
      }
    },
    {
      "cell_type": "code",
      "source": [
        "# Creating a function which gives us a DataFrame containing (data type ,null values ,non null values ,unique values and % of null values)\n",
        "def playstore_info():\n",
        "  temp=pd.DataFrame(index=ps_data.columns)\n",
        "  temp['Datatype']=ps_data.dtypes\n",
        "  temp['null values']=ps_data.isnull().sum()\n",
        "  temp['non null values']=ps_data.count()\n",
        "  temp['unique values']=ps_data.nunique()\n",
        "  temp['% of null values']=ps_data.isnull().mean()\n",
        "  return temp\n",
        "\n",
        "playstore_info()"
      ],
      "metadata": {
        "id": "GgHWkxvamxVg"
      },
      "execution_count": null,
      "outputs": []
    },
    {
      "cell_type": "markdown",
      "source": [
        "**Findings**\n",
        "\n",
        "The number of null values are:\n",
        "\n",
        "Rating has 1474 null values which contributes 13.60% of the data. Type has 1 null value which contributes 0.01% of the data. Content_Rating has 1 null value which contributes 0.01% of the data. Current_Ver has 8 null values which contributes 0.07% of the data. Android_Ver has 3 null values which contributes 0.03% of the data."
      ],
      "metadata": {
        "id": "UkgQB18PAn0X"
      }
    },
    {
      "cell_type": "markdown",
      "source": [
        "### What did you know about your dataset?"
      ],
      "metadata": {
        "id": "H0kj-8xxnORC"
      }
    },
    {
      "cell_type": "markdown",
      "source": [
        "Answer Here"
      ],
      "metadata": {
        "id": "gfoNAAC-nUe_"
      }
    },
    {
      "cell_type": "markdown",
      "source": [
        "## ***2. Understanding Your Variables***"
      ],
      "metadata": {
        "id": "nA9Y7ga8ng1Z"
      }
    },
    {
      "cell_type": "code",
      "source": [
        "# Dataset Columns\n",
        "ps_data.columns"
      ],
      "metadata": {
        "id": "j7xfkqrt5Ag5"
      },
      "execution_count": null,
      "outputs": []
    },
    {
      "cell_type": "code",
      "source": [
        "# Dataset Describe\n",
        "ps_data.describe()"
      ],
      "metadata": {
        "id": "DnOaZdaE5Q5t"
      },
      "execution_count": null,
      "outputs": []
    },
    {
      "cell_type": "markdown",
      "source": [
        "### Variables Description"
      ],
      "metadata": {
        "id": "PBTbrJXOngz2"
      }
    },
    {
      "cell_type": "markdown",
      "source": [
        "play_store dataframe has 10841 rows and 13 columns. The 13 columns are identified as below:\n",
        "\n",
        "**1) App** - It tells us about the name of the application with a short\n",
        "description.\n",
        "\n",
        "**2) Category** - It gives the category to the app.\n",
        "\n",
        "**3) Rating** - It contains the average rating the respective app received from its users.\n",
        "\n",
        "**4) Reviews** - It tells us about the total number of users who have given a review for the application.\n",
        "\n",
        "**5) Size** - It tells us about the size being occupied the application on the mobile phone.\n",
        "\n",
        "**6) Installs** - It tells us about the total number of installs/downloads for an application.\n",
        "\n",
        "**7) Type** - IIt states whether an app is free to use or paid.\n",
        "\n",
        "**8) Price** - It gives the price payable to install the app. For free type apps, the price is zero.\n",
        "\n",
        "**9) Content Rating** - It states whether or not an app is suitable for all age groups or not.\n",
        "\n",
        "**10) Genres** - It tells us about the various other categories to which an application can belong.\n",
        "\n",
        "**11) Last Updated** - It tells us about the when the application was updated.\n",
        "\n",
        "**12) Current Ver** - It tells us about the current version of the application.\n",
        "\n",
        "**13) Android Ver** - It tells us about the android version which can support the application on its platform."
      ],
      "metadata": {
        "id": "aJV4KIxSnxay"
      }
    },
    {
      "cell_type": "markdown",
      "source": [
        "## 3. ***Data Wrangling***"
      ],
      "metadata": {
        "id": "dauF4eBmngu3"
      }
    },
    {
      "cell_type": "markdown",
      "source": [
        "### Data Wrangling Code"
      ],
      "metadata": {
        "id": "bKJF3rekwFvQ"
      }
    },
    {
      "cell_type": "markdown",
      "source": [
        "Lets first deal with the columns which contains lesser number of NaN values. By going through the NaN values, we must come up with a way to replace them with non NaN values or we need to come up with a reason for having NaN.\n",
        "\n",
        "1). **Android Ver: There are a total of 3 NaN values in this column.**"
      ],
      "metadata": {
        "id": "9aI_knQTCUpL"
      }
    },
    {
      "cell_type": "code",
      "source": [
        "# The rows containing NaN values in the Android Ver column\n",
        "ps_data[ps_data[\"Android Ver\"].isnull()]"
      ],
      "metadata": {
        "id": "0JuqNkQ5CW3D"
      },
      "execution_count": null,
      "outputs": []
    },
    {
      "cell_type": "markdown",
      "source": [
        "Since the NaN values in the Android Ver column cannot be replaced by any particular value, and, since there are only 3 rows which contain NaN values in this column, which accounts to less than 0.03% of the total rows in the given dataset, it can be be dropped."
      ],
      "metadata": {
        "id": "Ggp2AOcWDFQd"
      }
    },
    {
      "cell_type": "code",
      "source": [
        "# dropping rows corresponding to the to the NaN values in the 'Android Ver' column.\n",
        "ps_data=ps_data[ps_data['Android Ver'].notna()]\n",
        "# Shape of the updated dataframe\n",
        "ps_data.shape"
      ],
      "metadata": {
        "id": "H48rFgiDC7IN"
      },
      "execution_count": null,
      "outputs": []
    },
    {
      "cell_type": "markdown",
      "source": [
        "We were successfully able to handle the NaN values in theAndroid Vercolumn."
      ],
      "metadata": {
        "id": "R8xjDBGNDKwh"
      }
    },
    {
      "cell_type": "markdown",
      "source": [
        "**2). Current Ver: There are a total of 8 NaN values in this column.**"
      ],
      "metadata": {
        "id": "DdoC4QOpDPrM"
      }
    },
    {
      "cell_type": "code",
      "source": [
        "# The rows containing NaN values in the Current Ver column\n",
        "ps_data[ps_data[\"Current Ver\"].isnull()]"
      ],
      "metadata": {
        "id": "N-mmmyOuDd0w"
      },
      "execution_count": null,
      "outputs": []
    },
    {
      "cell_type": "markdown",
      "source": [
        "Since there are only 8 rows which contain NaN values in the Current Ver column, and it accounts to just around 0.07% of the total rows in the given dataset, and there is no particular value with which we can replace it, these rows can be dropped."
      ],
      "metadata": {
        "id": "wnRP98myDpYz"
      }
    },
    {
      "cell_type": "code",
      "source": [
        "# dropping rows corresponding to the values which contain NaN in the column 'Current Ver'.\n",
        "ps_data=ps_data[ps_data[\"Current Ver\"].notna()]\n",
        "# Shape of the updated dataframe\n",
        "ps_data.shape"
      ],
      "metadata": {
        "id": "pRGBvl2GDq4W"
      },
      "execution_count": null,
      "outputs": []
    },
    {
      "cell_type": "markdown",
      "source": [
        "**3). Type: There is only one NaN value in this column.**"
      ],
      "metadata": {
        "id": "taQFFeihEI7b"
      }
    },
    {
      "cell_type": "code",
      "source": [
        "# The row containing NaN values in the Type column\n",
        "ps_data[ps_data[\"Type\"].isnull()]"
      ],
      "metadata": {
        "id": "zpQ2QvDcEMq-"
      },
      "execution_count": null,
      "outputs": []
    },
    {
      "cell_type": "code",
      "source": [
        "# Finding the different values the 'Type' column takes\n",
        "ps_data[\"Type\"].value_counts()"
      ],
      "metadata": {
        "id": "h1Ybxcn9EXP9"
      },
      "execution_count": null,
      "outputs": []
    },
    {
      "cell_type": "markdown",
      "source": [
        "The Typecolumn contains only two entries, namely, Free and Paid. Also, if the app is of type-paid, the price of that app will be printed in the corresponding Price column, else, it will show as '0'. In this case, the price for the respective app is printed as '0', which means the app is of type-free. Hence we can replace this NaN value with Free."
      ],
      "metadata": {
        "id": "p1lOcnHgEplF"
      }
    },
    {
      "cell_type": "code",
      "source": [
        "# Replacing the NaN value in 'Type' column corresponding to row index 9148 with 'Free'\n",
        "ps_data.loc[9148,'Type']='Free'"
      ],
      "metadata": {
        "id": "bVdzhQ4vErm9"
      },
      "execution_count": null,
      "outputs": []
    },
    {
      "cell_type": "code",
      "source": [
        "ps_data[ps_data[\"Type\"].isnull()]"
      ],
      "metadata": {
        "id": "-95KTjVJEy_r"
      },
      "execution_count": null,
      "outputs": []
    },
    {
      "cell_type": "markdown",
      "source": [
        "**4). Rating: This column contains 1470 NaN values.**"
      ],
      "metadata": {
        "id": "b3JmSQoXFN3P"
      }
    },
    {
      "cell_type": "code",
      "source": [
        "# The rows containing NaN values in the Rating column\n",
        "ps_data[ps_data['Rating'].isnull()]"
      ],
      "metadata": {
        "id": "oSMzujJyFUUQ"
      },
      "execution_count": null,
      "outputs": []
    },
    {
      "cell_type": "markdown",
      "source": [
        "Also, we know that the rating of any app in the play store will be in between 1 and 5. Lets check whether there are any ratings out of this range."
      ],
      "metadata": {
        "id": "sCCCbn54FZUs"
      }
    },
    {
      "cell_type": "code",
      "source": [
        "ps_data[(ps_data[\"Rating\"]<1) | (ps_data[\"Rating\"]>5)]"
      ],
      "metadata": {
        "id": "qq0kJkpKFeNS"
      },
      "execution_count": null,
      "outputs": []
    },
    {
      "cell_type": "markdown",
      "source": [
        "* The `Rating` column contains 1470 NaN values which accounts to apprximately 13.5% of the rows in the entire dataset. It is not practical to drop these rows because by doing so, we will loose a large amount of data, which may impact the final quality of the analysis.\n",
        "* The NaN values in this case can be imputed by the aggregate (mean or median) of the remaining values in the Rating column."
      ],
      "metadata": {
        "id": "KJwxoPoBF6gu"
      }
    },
    {
      "cell_type": "code",
      "source": [
        "# Finding mean and median in the Rating column excluding the NaN values.\n",
        "\n",
        "mean_rating = round(ps_data[~ps_data['Rating'].isnull()]['Rating'].mean(),4)\n",
        "\n",
        "median_rating = ps_data[~ps_data['Rating'].isnull()]['Rating'].median()\n",
        "\n",
        "[mean_rating , median_rating]"
      ],
      "metadata": {
        "id": "GRIa-I-AF8yE"
      },
      "execution_count": null,
      "outputs": []
    },
    {
      "cell_type": "markdown",
      "source": [
        "* The mean of the average ratings (excluding the NaN values) comes to be 4.2.\n",
        "\n",
        "* The median of the entries (excluding the NaN values) in the 'Rating' column comes to be 4.3. From this we can say that 50% of the apps have an average rating of above 4.3, and the rest below 4.3.\n",
        "\n",
        "* Hence we will impute the NaN values in the Rating column with its median."
      ],
      "metadata": {
        "id": "cRy1Y_jaGJzR"
      }
    },
    {
      "cell_type": "code",
      "source": [
        "# Replacing the NaN values in the 'Rating' colunm with its median value\n",
        "ps_data['Rating'].fillna(value=median_rating,inplace=True)"
      ],
      "metadata": {
        "id": "ddUPw0PAGU8T"
      },
      "execution_count": null,
      "outputs": []
    },
    {
      "cell_type": "markdown",
      "source": [
        "# **Handling duplicates values and Manipulating dataset:**\n",
        "### **`1).Handling the duplicates in the  `App `column`**"
      ],
      "metadata": {
        "id": "mMTRqFPXGmEH"
      }
    },
    {
      "cell_type": "code",
      "source": [
        "ps_data['App'].value_counts()"
      ],
      "metadata": {
        "id": "-lzVWJr1Gp_5"
      },
      "execution_count": null,
      "outputs": []
    },
    {
      "cell_type": "code",
      "source": [
        "# Inspecting the duplicates values.\n",
        "ps_data[ps_data['App']=='ROBLOX']"
      ],
      "metadata": {
        "id": "F_iBgtseG3fi"
      },
      "execution_count": null,
      "outputs": []
    },
    {
      "cell_type": "code",
      "source": [
        "# dropping duplicates from the 'App' column.\n",
        "ps_data.drop_duplicates(subset = 'App', inplace = True)\n",
        "ps_data.shape\n"
      ],
      "metadata": {
        "id": "5ju9i8R-G8l4"
      },
      "execution_count": null,
      "outputs": []
    },
    {
      "cell_type": "code",
      "source": [
        "# Checking whether the duplicates in the 'App' column are taken care of or not\n",
        "ps_data[ps_data['App']=='ROBLOX']"
      ],
      "metadata": {
        "id": "KTgDEIkDHTkC"
      },
      "execution_count": null,
      "outputs": []
    },
    {
      "cell_type": "markdown",
      "source": [
        "### **`2). Changing the datatype of the Last Updated column from string to datetime.`**"
      ],
      "metadata": {
        "id": "LljL0euyHbxQ"
      }
    },
    {
      "cell_type": "code",
      "source": [
        "# Pandas to_datetime() function applied to the values in the last updated column helps to convert string Date time into Python Date time object.\n",
        "ps_data[\"Last Updated\"] = pd.to_datetime(ps_data['Last Updated'])\n",
        "ps_data.head()"
      ],
      "metadata": {
        "id": "rqKZaFTlHeLl"
      },
      "execution_count": null,
      "outputs": []
    },
    {
      "cell_type": "markdown",
      "source": [
        "### **`3). Changing the datatype of the `Price `column from string to float`.**"
      ],
      "metadata": {
        "id": "QXNIAoGwHrGX"
      }
    },
    {
      "cell_type": "code",
      "source": [
        "ps_data['Price'].value_counts()"
      ],
      "metadata": {
        "id": "MJGe0vBFHs2J"
      },
      "execution_count": null,
      "outputs": []
    },
    {
      "cell_type": "markdown",
      "source": [
        "To convert this column from string to float, we must first drop the $ symbol from the all the values. Then we can assign float datatype to those values.\n",
        "\n",
        "Applying the drop_dollar function to convert the values in thePrice column from string datatype to float datatype."
      ],
      "metadata": {
        "id": "AZnYHd5oH55f"
      }
    },
    {
      "cell_type": "code",
      "source": [
        "# Creating a function drop-dollar which dropps the $ symbol if it is present and returns the output which is of float datatype.\n",
        "def convert_dollar(val):\n",
        "  '''\n",
        "  This funtion drops the $ symbol if present and returns the value with float datatype.\n",
        "  '''\n",
        "  if '$' in val:\n",
        "    return float(val[1:])\n",
        "  else:\n",
        "    return float(val)"
      ],
      "metadata": {
        "id": "9wmqxjjsH1KY"
      },
      "execution_count": null,
      "outputs": []
    },
    {
      "cell_type": "code",
      "source": [
        "# The drop_dollar funtion applied to the price column\n",
        "ps_data['Price']=ps_data['Price'].apply(lambda x: convert_dollar(x))\n",
        "ps_data.head()"
      ],
      "metadata": {
        "id": "Ge8f91goIBvV"
      },
      "execution_count": null,
      "outputs": []
    },
    {
      "cell_type": "code",
      "source": [
        "ps_data[ps_data['Price']!=0].head()"
      ],
      "metadata": {
        "id": "_u_TRUv0IOLN"
      },
      "execution_count": null,
      "outputs": []
    },
    {
      "cell_type": "markdown",
      "source": [
        "We have successfully converted the datatype of values in the Price column from string to float."
      ],
      "metadata": {
        "id": "EONmNGqNIe27"
      }
    },
    {
      "cell_type": "markdown",
      "source": [
        "### **`4). Converting the values in the `Installs`column from string datatype to integer datatype.`**"
      ],
      "metadata": {
        "id": "UJnkbc1aIjPG"
      }
    },
    {
      "cell_type": "code",
      "source": [
        "# Checking the contents of the 'Installs' column\n",
        "ps_data['Installs'].value_counts()"
      ],
      "metadata": {
        "id": "r4mKvoswIlJI"
      },
      "execution_count": null,
      "outputs": []
    },
    {
      "cell_type": "markdown",
      "source": [
        "To convert all the values in the Installs column from string datatype to integer datatype, we must first drop the '+' symbol from all the entries if present and then we can change its datatype.\n",
        "\n",
        "Applying the convert_plus function to convert the values in the Installs column from string datatype to float datatype."
      ],
      "metadata": {
        "id": "5x5XIp6cIr1v"
      }
    },
    {
      "cell_type": "code",
      "source": [
        "# Creating a function convert_plus which drops the '+' symbol if it is present and returns the output which is of integer datatype.\n",
        "\n",
        "def convert_plus(val):\n",
        "  '''\n",
        "  This function drops the + symbol if present and returns the value with int datatype.\n",
        "  '''\n",
        "  if '+' and ',' in val:\n",
        "    new = int(val[:-1].replace(',',''))\n",
        "    return new\n",
        "  elif '+' in val:\n",
        "    new1 = int(val[:-1])\n",
        "    return new1\n",
        "  else:\n",
        "    return int(val)"
      ],
      "metadata": {
        "id": "rGzmnG5NI3uB"
      },
      "execution_count": null,
      "outputs": []
    },
    {
      "cell_type": "code",
      "source": [
        "# The drop_plus funtion applied to the main dataframe\n",
        "\n",
        "ps_data['Installs'] = ps_data['Installs'].apply(lambda x: convert_plus(x))\n",
        "ps_data.head()"
      ],
      "metadata": {
        "id": "zXh39mTzI8UN"
      },
      "execution_count": null,
      "outputs": []
    },
    {
      "cell_type": "markdown",
      "source": [
        "The resultant values in the **Installs** column are of the integer datatype, and it represents the least number of times a particular app has been installed.\n",
        "\n",
        "\n",
        "\n",
        "\n",
        "\n",
        "* **Installs** = 0 indicates that that particular app has not been installed by anyone yet.\n",
        "* **Installs** = 1 indicates that the particular app has been installed by atleast\n",
        "one user.\n",
        "* **Installs** = 1000000 indicates that the particular app has been installed by atleast one million users. So on and so forth.\n",
        "* We have successfully converted the datatype of values in the Installs column from string to int."
      ],
      "metadata": {
        "id": "VTEKieYDJOO_"
      }
    },
    {
      "cell_type": "markdown",
      "source": [
        "### **`5). Converting the values in the `Size` column to a same unit of measure(MB).`**"
      ],
      "metadata": {
        "id": "ybVre6P9JkCY"
      }
    },
    {
      "cell_type": "code",
      "source": [
        "ps_data['Size'].value_counts()"
      ],
      "metadata": {
        "id": "UulapcGgJw9-"
      },
      "execution_count": null,
      "outputs": []
    },
    {
      "cell_type": "markdown",
      "source": [
        "We can see that the values in the Size column contains data with different units. 'M' stands for MB and 'k' stands for KB. To easily analyse this column, it is necessary to convert all the values to a single unit. In this case, we will convert all the units to MB.\n",
        "\n",
        "We know that 1MB = 1024KB, to convert KB to MB, we must divide all the values which are in KB by 1024."
      ],
      "metadata": {
        "id": "zBOGRvUKJlt1"
      }
    },
    {
      "cell_type": "code",
      "source": [
        "# Defining a function to convert all the entries in KB to MB and then converting them to float datatype.\n",
        "\n",
        "def convert_kb_to_mb(val):\n",
        "  '''\n",
        "  This function converts all the valid entries in KB to MB and returns the result in float datatype.\n",
        "  '''\n",
        "  try:\n",
        "    if 'M' in val:\n",
        "      return float(val[:-1])\n",
        "    elif 'k' in val:\n",
        "      return round(float(val[:-1])/1024, 4)\n",
        "    else:\n",
        "      return val\n",
        "  except:\n",
        "    return val"
      ],
      "metadata": {
        "id": "0XIQtXClJ73t"
      },
      "execution_count": null,
      "outputs": []
    },
    {
      "cell_type": "markdown",
      "source": [
        "Applying the kb_to_mb function to convert the values in the Size column to a single unit of measure (MB) and the datatype from string to float."
      ],
      "metadata": {
        "id": "rNOCBWG8J9aH"
      }
    },
    {
      "cell_type": "code",
      "source": [
        "# The kb_to_mb funtion applied to the size column\n",
        "\n",
        "ps_data['Size'] = ps_data['Size'].apply(lambda x: convert_kb_to_mb(x))\n",
        "ps_data.head()"
      ],
      "metadata": {
        "id": "OsTjlVeWKBHX"
      },
      "execution_count": null,
      "outputs": []
    },
    {
      "cell_type": "code",
      "source": [
        "ps_data['Size'] = ps_data['Size'].apply(lambda x: str(x).replace('Varies with device', 'NaN') if 'Varies with device' in str(x) else x)\n",
        "ps_data['Size'] = ps_data['Size'].apply(lambda x: float(x))"
      ],
      "metadata": {
        "id": "XPX2X5oGKbQp"
      },
      "execution_count": null,
      "outputs": []
    },
    {
      "cell_type": "markdown",
      "source": [
        "* we see that a vast majority of the entries in this column are of the value **Varies with device**, replacing this with any central tendency value (mean or median) may give incorrect visualizations and results. Hence these values are left as it is.\n",
        "\n",
        "* We have successfully converted all the valid entries in the **Size** column to a single unit of measure (MB) and the datatype from string to float."
      ],
      "metadata": {
        "id": "_OU1pkKlK5EO"
      }
    },
    {
      "cell_type": "markdown",
      "source": [
        "### **`6). Converting the datatype of values in the `Reviews` column from string to int.`**"
      ],
      "metadata": {
        "id": "tvJ1X_bALBGl"
      }
    },
    {
      "cell_type": "code",
      "source": [
        "# Converting the datatype of the values in the reviews column from string to int\n",
        "ps_data['Reviews'] = ps_data['Reviews'].astype(int)\n",
        "ps_data.head()"
      ],
      "metadata": {
        "id": "1AfyeaaCLCWB"
      },
      "execution_count": null,
      "outputs": []
    },
    {
      "cell_type": "code",
      "source": [
        "ps_data.describe()"
      ],
      "metadata": {
        "id": "EWbCnll0LMxW"
      },
      "execution_count": null,
      "outputs": []
    },
    {
      "cell_type": "markdown",
      "source": [
        "We have successfully converted the datatype of the values in the Reviews column from string to int.\n",
        "\n",
        "Now that we have handled the errors and NaN values in the playstoredata.csv file, lets do the same for the userreviews.csv file."
      ],
      "metadata": {
        "id": "EKQ2I0NrLb3q"
      }
    },
    {
      "cell_type": "markdown",
      "source": [
        "# **Exploring User_review dataframe**"
      ],
      "metadata": {
        "id": "_1he_FNYFaO5"
      }
    },
    {
      "cell_type": "code",
      "source": [
        "# Load User review Dataset\n",
        "ur_data_path='/content/drive/MyDrive/datasets/Play Store App Review Analysis/User Reviews.csv'\n",
        "ur_data=pd.read_csv(ur_data_path)"
      ],
      "metadata": {
        "id": "kg0ViVfUMU-Q"
      },
      "execution_count": null,
      "outputs": []
    },
    {
      "cell_type": "code",
      "source": [
        "ur_data"
      ],
      "metadata": {
        "id": "ktyq1n7IDu24"
      },
      "execution_count": null,
      "outputs": []
    },
    {
      "cell_type": "code",
      "source": [
        "ur_data.shape"
      ],
      "metadata": {
        "id": "9klu1Zv4D60Z"
      },
      "execution_count": null,
      "outputs": []
    },
    {
      "cell_type": "code",
      "source": [
        "ur_data.columns"
      ],
      "metadata": {
        "id": "JNdbinooFkb2"
      },
      "execution_count": null,
      "outputs": []
    },
    {
      "cell_type": "markdown",
      "source": [
        "**Let us first define what information the columns contain based on our inspection.**\n",
        "\n",
        "user_reviews dataframe has 64295 rows and 5 columns. The 5 columns are identified as follows:\n",
        "\n",
        "* **App:** Contains the name of the app with a short description .\n",
        "* **Translated_Review:** It contains the English translation of the review dropped by the user of the app.\n",
        "* **Sentiment:** It gives the attitude/emotion of the writer. It can be ‘Positive’, ‘Negative’, or ‘Neutral’.\n",
        "* **Sentiment_Polarity:** It gives the polarity of the review. Its range is [-1,1], where 1 means ‘Positive statement’ and -1 means a ‘Negative statement’.\n",
        "* **Sentiment_Subjectivity:** This value gives how close a reviewers opinion is to the opinion of the general public. Its range is [0,1]. Higher the subjectivity, closer is the reviewers opinion to the opinion of the general public, and lower subjectivity indicates the review is more of a factual information."
      ],
      "metadata": {
        "id": "J7NZcCC3FpFl"
      }
    },
    {
      "cell_type": "code",
      "source": [
        "ur_data.info()"
      ],
      "metadata": {
        "id": "TaQ9leiTD_CP"
      },
      "execution_count": null,
      "outputs": []
    },
    {
      "cell_type": "code",
      "source": [
        "ur_data.describe()"
      ],
      "metadata": {
        "id": "2BhRh8_MEGcQ"
      },
      "execution_count": null,
      "outputs": []
    },
    {
      "cell_type": "code",
      "source": [
        "# Creating a function which gives us a DataFrame containing (data type ,null values ,non null values ,unique values and % of null values)\n",
        "def ur_data_info():\n",
        "  temp=pd.DataFrame(index=ur_data.columns)\n",
        "  temp['Datatype']=ur_data.dtypes\n",
        "  temp['null values']=ur_data.isnull().sum()\n",
        "  temp['non null values']=ur_data.count()\n",
        "  temp['unique values']=ur_data.nunique()\n",
        "  temp['% of null values']=ur_data.isnull().mean()\n",
        "  return temp\n",
        "\n",
        "ur_data_info()"
      ],
      "metadata": {
        "id": "oc62E7ZgEK7_"
      },
      "execution_count": null,
      "outputs": []
    },
    {
      "cell_type": "markdown",
      "source": [
        "**Findings**\n",
        "\n",
        "The number of null values are:\n",
        "* **Translated_Review** has 26868 null values which contributes **41.79%** of the data.\n",
        "* **Sentiment** has 26863 null values which contributes **41.78%** of the data.\n",
        "* **Sentiment_Polarity**  has 26863 null values which contributes **41.78%** of the data.\n",
        "* **Sentiment_Subjectivity** has 26863 null values which contributes **41.78%** of the data."
      ],
      "metadata": {
        "id": "dFpkAO2wGBVx"
      }
    },
    {
      "cell_type": "markdown",
      "source": [
        "## **Handling the error and NaN values in the User reviews**"
      ],
      "metadata": {
        "id": "Xi5SMBZHGHXu"
      }
    },
    {
      "cell_type": "code",
      "source": [
        "# Finding the total no of NaN values in each column.\n",
        "ur_data.isnull().sum()"
      ],
      "metadata": {
        "id": "AN0Jmi9QGJAS"
      },
      "execution_count": null,
      "outputs": []
    },
    {
      "cell_type": "markdown",
      "source": [
        "There are a lot of NaN values. We need to analyse these values and see how we can handle them."
      ],
      "metadata": {
        "id": "J0o4vSYiGWmf"
      }
    },
    {
      "cell_type": "code",
      "source": [
        "# checking the NaN values in the translated rview column\n",
        "ur_data[ur_data['Translated_Review'].isnull()]"
      ],
      "metadata": {
        "id": "tiV3Ob77GX2c"
      },
      "execution_count": null,
      "outputs": []
    },
    {
      "cell_type": "markdown",
      "source": [
        "There are a total of 26868 rows containing NaN values in the Translated_Review column.\n",
        "\n",
        "We can say that the apps which do not have a review (NaN value insted) tend to have NaN values in the columns `Sentiment, Sentiment_Polarity, and Sentiment_Subjectivity` in the majority of the cases.\n",
        "\n",
        "**Lets check if there are any exceptions.**"
      ],
      "metadata": {
        "id": "3r5rGL1cGsYO"
      }
    },
    {
      "cell_type": "code",
      "source": [
        "# The rows corresponding to the NaN values in the translated_review column, where the rest of the columns are non null.\n",
        "ur_data[ur_data['Translated_Review'].isnull() & ur_data['Sentiment'].notna()]"
      ],
      "metadata": {
        "id": "dm0pzZW7G9I5"
      },
      "execution_count": null,
      "outputs": []
    },
    {
      "cell_type": "markdown",
      "source": [
        "In the few exceptional cases where the values of remaining columns are non null for null values in the translated_Review column, there seems to be errors. This is because the Sentiment, sentiment ploarity and sentiment subjectivity of the review can be determined if and only if there is a corresponding review.\n",
        "\n",
        "Hence these values are wrong and can be deleted altogather."
      ],
      "metadata": {
        "id": "F0ENTL1fHIgF"
      }
    },
    {
      "cell_type": "code",
      "source": [
        "# Deleting the rows containing NaN values\n",
        "ur_data = ur_data.dropna()"
      ],
      "metadata": {
        "id": "NWe3W_E8HQds"
      },
      "execution_count": null,
      "outputs": []
    },
    {
      "cell_type": "code",
      "source": [
        "# New shape of user review dataframe\n",
        "ur_data.shape"
      ],
      "metadata": {
        "id": "RG5DmaZrHX9-"
      },
      "execution_count": null,
      "outputs": []
    },
    {
      "cell_type": "markdown",
      "source": [
        "There are a total of 37427 rows in the updated df.\n",
        "\n",
        "Hence we have taken care of all the NaN values in the df.\n",
        "\n",
        "Lets inspect the updated df"
      ],
      "metadata": {
        "id": "Hc1B7U84HxKj"
      }
    },
    {
      "cell_type": "code",
      "source": [
        "# Inspecting the sentiment column\n",
        "ur_data['Sentiment'].value_counts()"
      ],
      "metadata": {
        "id": "xDgSNXyDHzVk"
      },
      "execution_count": null,
      "outputs": []
    },
    {
      "cell_type": "markdown",
      "source": [
        "The values in the `Sentiment_Polarity and Sentiment_Subjectivity`looks correct.\n",
        "\n",
        "On the given datasets, we successfully developed a data pipeline. We can now examine this data flow and create user-friendly visuals. It is easy to compare different measures using the visualizations, and thus to draw implications from them."
      ],
      "metadata": {
        "id": "P1i9a1D1IBHP"
      }
    },
    {
      "cell_type": "markdown",
      "source": [
        "## ***4. Data Vizualization, Storytelling & Experimenting with charts : Understand the relationships between variables***"
      ],
      "metadata": {
        "id": "GF8Ens_Soomf"
      }
    },
    {
      "cell_type": "markdown",
      "source": [
        "#### Chart - 1"
      ],
      "metadata": {
        "id": "0wOQAZs5pc--"
      }
    },
    {
      "cell_type": "markdown",
      "source": [
        "# **`1). What is the ratio of number of Paid apps and Free apps?`**"
      ],
      "metadata": {
        "id": "S6ZvXhkvT0lO"
      }
    },
    {
      "cell_type": "code",
      "source": [
        "# Chart - 1 visualization code\n",
        "type_data=ps_data['Type'].value_counts()\n",
        "lables = ['Free' , 'Paid']\n",
        "explode=[0.0,0.2]\n",
        "plt.figure(figsize=(8,8))\n",
        "plt.pie(type_data, labels=lables , explode=explode , autopct='%.2f%%' , textprops={'fontsize':15})\n",
        "plt.title('Distribution of Paid and Free apps',size=20,loc='center')\n",
        "plt.legend()\n",
        "plt.show()"
      ],
      "metadata": {
        "id": "7v_ESjsspbW7"
      },
      "execution_count": null,
      "outputs": []
    },
    {
      "cell_type": "markdown",
      "source": [
        "##### 1. Why did you pick the specific chart?"
      ],
      "metadata": {
        "id": "K5QZ13OEpz2H"
      }
    },
    {
      "cell_type": "markdown",
      "source": [
        "This Pie charts allow us to compare the relative sizes or proportions of free and paid apps quickly. It's evident that free apps are larger in proption and paid app are smaller in proportion, which can help in making quick comparisons."
      ],
      "metadata": {
        "id": "XESiWehPqBRc"
      }
    },
    {
      "cell_type": "markdown",
      "source": [
        "##### 2. What is/are the insight(s) found from the chart?"
      ],
      "metadata": {
        "id": "lQ7QKXXCp7Bj"
      }
    },
    {
      "cell_type": "markdown",
      "source": [
        "**Findings:**\n",
        "\n",
        "From the above graph we can see that 92% of apps in google play store are free and 8%are paid."
      ],
      "metadata": {
        "id": "C_j1G7yiqdRP"
      }
    },
    {
      "cell_type": "markdown",
      "source": [
        "##### 3. Will the gained insights help creating a positive business impact?\n",
        "Are there any insights that lead to negative growth? Justify with specific reason."
      ],
      "metadata": {
        "id": "448CDAPjqfQr"
      }
    },
    {
      "cell_type": "markdown",
      "source": [
        "\n",
        "The gained insights can indeed help create a positive business impact, but there are potential challenges that might lead to negative growth\n",
        "\n",
        "**Positive Business Impact**:\n",
        "* The large percentage of free apps indicates a broad user base, offering an opportunity for stakeholders to increase user engagement, gather data, and potentially convert users to premium services or features.\n",
        "*   While the majority of apps are free, stakeholders can leverage various monetization strategies, such as in-app purchases or ads, to generate revenue from the extensive user base.\n",
        "\n",
        "**Negative Business Impact**:\n",
        "*   Relying solely on alternative monetization strategies (in-app purchases, ads, etc.) without substantial revenue from upfront app sales can pose challenges, especially if those strategies do not perform well or if user engagement is low.\n",
        "*   The limited number of paid apps may face intense competition from the abundance of free options. This competitive pressure can make it challenging for paid apps to stand out and achieve significant growth.\n",
        "\n",
        "\n",
        "\n"
      ],
      "metadata": {
        "id": "3cspy4FjqxJW"
      }
    },
    {
      "cell_type": "markdown",
      "source": [
        "#### Chart - 2"
      ],
      "metadata": {
        "id": "KSlN3yHqYklG"
      }
    },
    {
      "cell_type": "markdown",
      "source": [
        "## **`2).  Which category of Apps from the Content Rating column are found more on playstore ?`**"
      ],
      "metadata": {
        "id": "0USUftpRTqw4"
      }
    },
    {
      "cell_type": "code",
      "source": [
        "# Chart - 2 visualization code\n",
        "content_rating=ps_data['Content Rating'].value_counts()\n",
        "plt.figure(figsize=(8,8))\n",
        "labels=['Everyone', 'Teen', 'Everyone 10+', 'Mature 17+','Adults only 18+', 'Unrated']\n",
        "explode=(0,0.1,0.1,0.1,0.0,1.3)\n",
        "plt.pie(content_rating , labels = labels,explode=explode , autopct='%0.2f%%' , textprops={'fontsize':12} )\n",
        "plt.title('Content Rating',size=20,loc='center')\n",
        "plt.legend()\n",
        "plt.show()"
      ],
      "metadata": {
        "id": "R4YgtaqtYklH"
      },
      "execution_count": null,
      "outputs": []
    },
    {
      "cell_type": "markdown",
      "source": [
        "##### 1. Why did you pick the specific chart?"
      ],
      "metadata": {
        "id": "t6dVpIINYklI"
      }
    },
    {
      "cell_type": "markdown",
      "source": [
        "Pie charts allow us to compare the relative sizes or proportions of different categories quickly. It's evident which segments are larger or smaller, which can help in making quick comparisons."
      ],
      "metadata": {
        "id": "5aaW0BYyYklI"
      }
    },
    {
      "cell_type": "markdown",
      "source": [
        "##### 2. What is/are the insight(s) found from the chart?"
      ],
      "metadata": {
        "id": "ijmpgYnKYklI"
      }
    },
    {
      "cell_type": "markdown",
      "source": [
        "A majority of the apps (82%) in the play store are can be used by everyone.The remaining apps have various age restrictions to use it."
      ],
      "metadata": {
        "id": "PSx9atu2YklI"
      }
    },
    {
      "cell_type": "markdown",
      "source": [
        "##### 3. Will the gained insights help creating a positive business impact?\n",
        "Are there any insights that lead to negative growth? Justify with specific reason."
      ],
      "metadata": {
        "id": "-JiQyfWJYklI"
      }
    },
    {
      "cell_type": "markdown",
      "source": [
        "**Positive Impacts:**\n",
        "*   The fact that 82% of apps are accessible to everyone implies a broad user base. This inclusivity can contribute to increased app downloads, user engagement, and market penetration.\n",
        "*   Apps with age restrictions demonstrate compliance with regulations and policies regarding content appropriateness for certain age groups. This can positively impact the reputation of the platform and build trust among users\n",
        "\n",
        "**Negative Impacts:**\n",
        "* Apps with age restrictions may have a more limited user base compared to those accessible to everyone. This could potentially impact the reach and popularity of such apps.\n",
        "* Apps with age restrictions may require additional resources for development and maintenance, particularly to stay compliant with evolving regulations. This could pose challenges for developers and stakeholders in terms of costs and resources.\n",
        "\n",
        "\n"
      ],
      "metadata": {
        "id": "BcBbebzrYklV"
      }
    },
    {
      "cell_type": "markdown",
      "source": [
        "#### Chart - 3"
      ],
      "metadata": {
        "id": "EM7whBJCYoAo"
      }
    },
    {
      "cell_type": "markdown",
      "source": [
        "## **`3).Top categories on Google Playstore?`**"
      ],
      "metadata": {
        "id": "EWdV7obqUzvV"
      }
    },
    {
      "cell_type": "code",
      "source": [
        "category_wise=ps_data.groupby('Category')['App'].count().sort_values(ascending=False)"
      ],
      "metadata": {
        "id": "Fn1ZuJVzUXDX"
      },
      "execution_count": null,
      "outputs": []
    },
    {
      "cell_type": "code",
      "source": [
        "# Chart - 3 visualization code\n",
        "plt.figure(figsize=(20,10))\n",
        "sns.barplot(x=category_wise.index , y=category_wise , palette=\"tab10\")\n",
        "plt.title('Top Category On Play Store' , fontsize=20)\n",
        "plt.xlabel('Number of Apps', size=15)\n",
        "plt.ylabel('App Categories', size=15)\n",
        "plt.xticks(rotation=45 , horizontalalignment='right')\n",
        "plt.show()"
      ],
      "metadata": {
        "id": "t6GMdE67YoAp"
      },
      "execution_count": null,
      "outputs": []
    },
    {
      "cell_type": "markdown",
      "source": [
        "##### 1. Why did you pick the specific chart?"
      ],
      "metadata": {
        "id": "fge-S5ZAYoAp"
      }
    },
    {
      "cell_type": "markdown",
      "source": [
        "the above bar chart gives us the each categories with number of apps which helps us to compare different categories by their numbers of apps"
      ],
      "metadata": {
        "id": "5dBItgRVYoAp"
      }
    },
    {
      "cell_type": "markdown",
      "source": [
        "##### 2. What is/are the insight(s) found from the chart?"
      ],
      "metadata": {
        "id": "85gYPyotYoAp"
      }
    },
    {
      "cell_type": "markdown",
      "source": [
        "**Findings:**\n",
        "\n",
        "So there are all total 33 categories in the dataset From the above output we can come to a conclusion that in playstore most of the apps are under` FAMILY & GAME` category and least are of `COSMIC & BEAUTY` Category."
      ],
      "metadata": {
        "id": "4jstXR6OYoAp"
      }
    },
    {
      "cell_type": "markdown",
      "source": [
        "##### 3. Will the gained insights help creating a positive business impact?\n",
        "Are there any insights that lead to negative growth? Justify with specific reason."
      ],
      "metadata": {
        "id": "RoGjAbkUYoAp"
      }
    },
    {
      "cell_type": "markdown",
      "source": [
        "\n",
        "**Positive Businesse Impact**\n",
        "*  The prevalence of apps in the \"FAMILY\" and \"GAME\" categories suggests a high demand for entertainment, gaming, and family-oriented content. This aligns with user preferences for engaging and family-friendly content.\n",
        "*  The scarcity of apps in the \"COSMIC\" and \"BEAUTY\" categories suggests a niche market. Developers in these categories may face less competition, providing an opportunity to target a specific audience interested in cosmic or beauty-related content\n",
        "\n",
        "**Negative Businesse Impact**\n",
        "*  On the flip side, fewer apps in \"COSMIC\" and \"BEAUTY\" category may indicate a smaller user base. Developers should be mindful of potential challenges in user acquisition, engagement, and retention, as the audience for these niche categories may be more limited.\n",
        "*   List item\n",
        "\n",
        "\n",
        "\n"
      ],
      "metadata": {
        "id": "zfJ8IqMcYoAp"
      }
    },
    {
      "cell_type": "markdown",
      "source": [
        "#### Chart - 4"
      ],
      "metadata": {
        "id": "4Of9eVA-YrdM"
      }
    },
    {
      "cell_type": "markdown",
      "source": [
        "### **`4). Which category App's have most number of installs?`**"
      ],
      "metadata": {
        "id": "KM-YjeADVCRp"
      }
    },
    {
      "cell_type": "code",
      "source": [
        "# Which category App's have most number of installs?\n",
        "\n",
        "category_wise_install = ps_data.groupby('Category')['Installs'].sum().sort_values()"
      ],
      "metadata": {
        "id": "aqfnms5kVLHr"
      },
      "execution_count": null,
      "outputs": []
    },
    {
      "cell_type": "code",
      "source": [
        "# Chart - 4 visualization code\n",
        "category_wise_install.plot.barh(figsize=(15,10), color = 'm', )\n",
        "plt.xlabel('Total app Installs', fontsize = 15)\n",
        "plt.ylabel('App Categories', fontsize = 15)\n",
        "plt.xticks()\n",
        "plt.title('Total app installs in each category', fontsize = 20)\n",
        "plt.show()"
      ],
      "metadata": {
        "id": "irlUoxc8YrdO"
      },
      "execution_count": null,
      "outputs": []
    },
    {
      "cell_type": "markdown",
      "source": [
        "##### 1. Why did you pick the specific chart?"
      ],
      "metadata": {
        "id": "iky9q4vBYrdO"
      }
    },
    {
      "cell_type": "markdown",
      "source": [
        "The above horizontal bar chart provide us the information about each categories with their number of installations of apps which gives insight about the popularity of each category"
      ],
      "metadata": {
        "id": "aJRCwT6DYrdO"
      }
    },
    {
      "cell_type": "markdown",
      "source": [
        "##### 2. What is/are the insight(s) found from the chart?"
      ],
      "metadata": {
        "id": "F6T5p64dYrdO"
      }
    },
    {
      "cell_type": "markdown",
      "source": [
        "**Findings:**\n",
        "\n",
        "This tells us the category of apps that has the maximum number of installs. The `Game,` `Communication and Tools` categories has the highest number of installs compared to other categories of apps."
      ],
      "metadata": {
        "id": "Xx8WAJvtYrdO"
      }
    },
    {
      "cell_type": "markdown",
      "source": [
        "##### 3. Will the gained insights help creating a positive business impact?\n",
        "Are there any insights that lead to negative growth? Justify with specific reason."
      ],
      "metadata": {
        "id": "y-Ehk30pYrdP"
      }
    },
    {
      "cell_type": "markdown",
      "source": [
        "\n",
        "**Positive Business Impact:**\n",
        "\n",
        "*  The high number of installs in the \"Game\",\"Communication\" and \"Tools\"\n",
        " categories indicates a massive level of user engagement.\n",
        "*  Developers in these categories have significant opportunities for monetization through in-app purchases, ads, and other revenue streams. The large user base enhances the potential for financial success.\n",
        "\n",
        "\n",
        "\n",
        "\n",
        "\n",
        "\n"
      ],
      "metadata": {
        "id": "jLNxxz7MYrdP"
      }
    },
    {
      "cell_type": "markdown",
      "source": [
        "#### Chart - 5"
      ],
      "metadata": {
        "id": "bamQiAODYuh1"
      }
    },
    {
      "cell_type": "markdown",
      "source": [
        "### **`5). Average rating of the apps`**"
      ],
      "metadata": {
        "id": "g64KeAg0VsI7"
      }
    },
    {
      "cell_type": "code",
      "source": [
        "# Chart - 5 visualization code\n",
        "# Average app ratings\n",
        "ps_data['Rating'].value_counts().plot.bar(figsize=(20,8),color='c')\n",
        "plt.title('Average rating of Apps in Play Store',fontsize=20)\n",
        "plt.xlabel('Average Rating',fontsize=15)\n",
        "plt.ylabel('Number Of Apps',fontsize=15)\n",
        "plt.show()"
      ],
      "metadata": {
        "id": "TIJwrbroYuh3"
      },
      "execution_count": null,
      "outputs": []
    },
    {
      "cell_type": "markdown",
      "source": [
        "We can represent the ratings in a better way if we group the ratings between certain intervals. Here, we can group the rating as follows:\n",
        "\n",
        "* 4-5: Top rated\n",
        "* 3-4: Above average\n",
        "* 2-3: Average\n",
        "* 1-2: Below average"
      ],
      "metadata": {
        "id": "3ImGUWbGV8vh"
      }
    },
    {
      "cell_type": "markdown",
      "source": [
        "**Lets create a new column `Rating group` in the main dataframe and apply these filters.**"
      ],
      "metadata": {
        "id": "LPtpe9WqWZcV"
      }
    },
    {
      "cell_type": "code",
      "source": [
        "def Rating_group(val):\n",
        "  if val >= 4:\n",
        "    return 'Top rated'\n",
        "  elif val<4 and val>=3:\n",
        "    return 'Above average'\n",
        "  elif val<3 and val>=2:\n",
        "    return 'Average'\n",
        "  else:\n",
        "    return 'Below average'"
      ],
      "metadata": {
        "id": "pwHId8VuWCfq"
      },
      "execution_count": null,
      "outputs": []
    },
    {
      "cell_type": "code",
      "source": [
        "ps_data['grouped rating'] = ps_data['Rating'].apply(lambda x : Rating_group(x))"
      ],
      "metadata": {
        "id": "ukMAh_ZkWF0X"
      },
      "execution_count": null,
      "outputs": []
    },
    {
      "cell_type": "code",
      "source": [
        "ps_data['grouped rating'].value_counts()"
      ],
      "metadata": {
        "id": "5JgHv2cNc16n"
      },
      "execution_count": null,
      "outputs": []
    },
    {
      "cell_type": "code",
      "source": [
        "ps_data['grouped rating'].value_counts().plot.bar(figsize=(6,4),color='orange')\n",
        "plt.title('Rating of Apps in Play Store',fontsize=15)\n",
        "plt.xlabel('Rating',fontsize=12)\n",
        "plt.ylabel('Number Of Apps',fontsize=12)\n",
        "plt.xticks(rotation=0)\n",
        "plt.show()"
      ],
      "metadata": {
        "id": "uWd0HLNfWJVP"
      },
      "execution_count": null,
      "outputs": []
    },
    {
      "cell_type": "markdown",
      "source": [
        "##### 1. Why did you pick the specific chart?"
      ],
      "metadata": {
        "id": "QHF8YVU7Yuh3"
      }
    },
    {
      "cell_type": "markdown",
      "source": [
        "The avove visualization gives us the insight about the number  of apps with respective categories so we can compare the number of apps with their average ratings"
      ],
      "metadata": {
        "id": "dcxuIMRPYuh3"
      }
    },
    {
      "cell_type": "markdown",
      "source": [
        "##### 2. What is/are the insight(s) found from the chart?"
      ],
      "metadata": {
        "id": "GwzvFGzlYuh3"
      }
    },
    {
      "cell_type": "markdown",
      "source": [
        "The above visualization gives us the insight that there are almost 80%(around 7700) apps are belongs to 'Top Rated'(Above 4 rating) category while 17% belongs to 'Above Average'(Between 3 and 4) rating category,and very small numbers are belongs to 'Average' and 'Below Average' rating category\n"
      ],
      "metadata": {
        "id": "uyqkiB8YYuh3"
      }
    },
    {
      "cell_type": "markdown",
      "source": [
        "##### 3. Will the gained insights help creating a positive business impact?\n",
        "Are there any insights that lead to negative growth? Justify with specific reason."
      ],
      "metadata": {
        "id": "qYpmQ266Yuh3"
      }
    },
    {
      "cell_type": "markdown",
      "source": [
        " **Positive Business Impact:**\n",
        "* Apps with high ratings (80% in the 'Top Rated' category) suggest a positive user experience, contributing to increased user satisfaction and loyalty.\n",
        "* Top-rated apps often have a competitive advantage, making them more appealing to users. This can result in increased downloads, engagement, and monetization opportunities through in-app purchases, ads, and premium features.\n",
        "\n",
        "\n",
        " **Negative Business Impact:**\n",
        " *  Apps with lower ratings may face challenges in user acquisition, retention, and revenue generation.\n",
        " * Apps with lower ratings may struggle to compete with higher-rated alternatives in the market. They may face challenges in acquiring new users and retaining existing ones, impacting their growth potential.\n",
        "\n",
        "\n",
        "  \n",
        "\n",
        "   "
      ],
      "metadata": {
        "id": "_WtzZ_hCYuh4"
      }
    },
    {
      "cell_type": "markdown",
      "source": [
        "#### Chart - 6"
      ],
      "metadata": {
        "id": "OH-pJp9IphqM"
      }
    },
    {
      "cell_type": "markdown",
      "source": [
        "### **`6). What are the Top 10 installed apps in any category?`**"
      ],
      "metadata": {
        "id": "suiF51kUWh7R"
      }
    },
    {
      "cell_type": "code",
      "source": [
        "# Chart - 6 visualization code\n",
        "def top10install(str):\n",
        "  str=str.upper()\n",
        "  top10=ps_data[ps_data['Category']==str]\n",
        "  top10apps=top10.sort_values(by='Installs',ascending=False).head(10)\n",
        "  plt.figure(figsize=(15,8))\n",
        "  sns.barplot(x = top10apps.App, y = top10apps.Installs, palette= \"icefire\")\n",
        "  plt.title('Top 10 Installed Apps',fontsize=20)\n",
        "  plt.ylabel('Number of Installs',fontsize=15)\n",
        "  plt.xlabel('Apps',fontsize=15)\n",
        "  plt.xticks(rotation=45)"
      ],
      "metadata": {
        "id": "kuRf4wtuphqN"
      },
      "execution_count": null,
      "outputs": []
    },
    {
      "cell_type": "code",
      "source": [
        "top10install('game')"
      ],
      "metadata": {
        "id": "lWXF3sUPWp3V"
      },
      "execution_count": null,
      "outputs": []
    },
    {
      "cell_type": "markdown",
      "source": [
        "##### 1. Why did you pick the specific chart?"
      ],
      "metadata": {
        "id": "bbFf2-_FphqN"
      }
    },
    {
      "cell_type": "markdown",
      "source": [
        "The above visualization provide us the top 10 app from any category whichever we want and their number of installs for each top 10 apps from that category."
      ],
      "metadata": {
        "id": "loh7H2nzphqN"
      }
    },
    {
      "cell_type": "markdown",
      "source": [
        "##### 2. What is/are the insight(s) found from the chart?"
      ],
      "metadata": {
        "id": "_ouA3fa0phqN"
      }
    },
    {
      "cell_type": "markdown",
      "source": [
        "From the above graph we can see that in the **`Game category Subway Surfers,Candy Crush Saga, Temple Run 2`** has the highest installs. In the same way we by passing different category names to the function, we can get the top 10 installed apps for that category."
      ],
      "metadata": {
        "id": "VECbqPI7phqN"
      }
    },
    {
      "cell_type": "markdown",
      "source": [
        "##### 3. Will the gained insights help creating a positive business impact?\n",
        "Are there any insights that lead to negative growth? Justify with specific reason."
      ],
      "metadata": {
        "id": "Seke61FWphqN"
      }
    },
    {
      "cell_type": "markdown",
      "source": [
        " **Positive Business Impact:**\n",
        "* Developers can identify opportunities within a category by analyzing the types of apps that succeed. This insight can guide them in creating apps that cater to unmet needs or offer unique features.\n",
        "* By analyzing the features and characteristics of top apps, developers can identify areas for improvement in their own apps. This can lead to enhancements that attract more users.\n",
        "\n",
        "**Negative Business Impact:**\n",
        "*  Breaking into the top rankings can be difficult due to the established presence of the current top 10 apps. This can make it challenging for newer apps to climb the ranks and gain recognition.\n",
        "\n",
        "\n",
        "\n",
        "\n",
        "\n"
      ],
      "metadata": {
        "id": "DW4_bGpfphqN"
      }
    },
    {
      "cell_type": "markdown",
      "source": [
        "#### Chart - 7"
      ],
      "metadata": {
        "id": "PIIx-8_IphqN"
      }
    },
    {
      "cell_type": "markdown",
      "source": [
        "### **`7). Top apps that are of free type.`**"
      ],
      "metadata": {
        "id": "vkRZedDfXJFX"
      }
    },
    {
      "cell_type": "code",
      "source": [
        "# Creating a new data frame cinsisting of only Free app type\n",
        "free_df = ps_data[ps_data['Type'] == 'Free']"
      ],
      "metadata": {
        "id": "Onag4cIpXLxc"
      },
      "execution_count": null,
      "outputs": []
    },
    {
      "cell_type": "code",
      "source": [
        "# Getting the top 20 free app that has maximum installs\n",
        "top_20_free = free_df[free_df['Installs']==free_df['Installs'].max()].head(20)"
      ],
      "metadata": {
        "id": "uqrgLZ7SXW6-"
      },
      "execution_count": null,
      "outputs": []
    },
    {
      "cell_type": "code",
      "source": [
        "# Chart - 7 visualization code\n",
        "top_20_free.Category.value_counts().plot.bar(figsize=(20,6), color= ('red','green'))\n",
        "plt.title('Categories in which the top 20 free apps belong',fontsize=15)\n",
        "plt.xlabel('Category',fontsize=12)\n",
        "plt.ylabel('Number Of Apps',fontsize=12)\n",
        "plt.xticks(rotation=45)\n",
        "plt.show()"
      ],
      "metadata": {
        "id": "lqAIGUfyphqO"
      },
      "execution_count": null,
      "outputs": []
    },
    {
      "cell_type": "markdown",
      "source": [
        "##### 1. Why did you pick the specific chart?"
      ],
      "metadata": {
        "id": "t27r6nlMphqO"
      }
    },
    {
      "cell_type": "markdown",
      "source": [
        "The above visualization gives us the information about the top 20 `free` apps and among them how many belongs to which category"
      ],
      "metadata": {
        "id": "iv6ro40sphqO"
      }
    },
    {
      "cell_type": "markdown",
      "source": [
        "##### 2. What is/are the insight(s) found from the chart?"
      ],
      "metadata": {
        "id": "r2jJGEOYphqO"
      }
    },
    {
      "cell_type": "markdown",
      "source": [
        "The major insight that can be drwn from above chat is that from top 20 free apps 6 belongs to `Communication`,3 belongs to `social` category and 2 apps belongs to each category of `Trevel_and_local` and `Video_Players` while 1 aap from each category of `Books_and_preference ,Entertainment , Game ,Photography ,Tools ,Productivity and News_and_Magzines`"
      ],
      "metadata": {
        "id": "Po6ZPi4hphqO"
      }
    },
    {
      "cell_type": "markdown",
      "source": [
        "##### 3. Will the gained insights help creating a positive business impact?\n",
        "Are there any insights that lead to negative growth? Justify with specific reason."
      ],
      "metadata": {
        "id": "b0JNsNcRphqO"
      }
    },
    {
      "cell_type": "markdown",
      "source": [
        " **Positive Business Impact:**\n",
        "*  Developers in the Communication category have a significant opportunity to cater to user needs and preferences. Continuous innovation and improvements in communication apps can lead to sustained success.\n",
        "* Developers in other categories (Books_and_Reference, Entertainment, Game, Photography, Tools, Productivity, News_and_Magazines) have the opportunity to diversify their strategies, potentially gaining visibility and user engagement in a competitive market.\n",
        "\n",
        "**Negative Business Impact:**\n",
        "*  The dominance of certain categories, such as Communication, may intensify competition among apps within those categories. Developers should focus on unique features and user satisfaction to stand out.\n",
        "* Users in popular categories like Communication and Social may have higher expectations regarding features, security, and user experience. Developers should strive to meet and exceed these expectations.\n",
        "\n",
        "\n",
        "\n",
        "\n",
        ""
      ],
      "metadata": {
        "id": "xvSq8iUTphqO"
      }
    },
    {
      "cell_type": "markdown",
      "source": [
        "#### Chart - 8"
      ],
      "metadata": {
        "id": "BZR9WyysphqO"
      }
    },
    {
      "cell_type": "markdown",
      "source": [
        "**Lets define a new column Revenue in paid_df which gives the revenue generated by the app through installs alone.**"
      ],
      "metadata": {
        "id": "iPG9x1V3YTpP"
      }
    },
    {
      "cell_type": "code",
      "source": [
        "# Creating a data frame consisting of ony paid apps from play store data\n",
        "paid_df= ps_data[ps_data['Type']=='Paid']\n",
        "\n",
        "#creating a new column in paid_df which gives the revenue generated by the app through installs\n",
        "paid_df['Revenue']= paid_df['Installs']*paid_df['Price']\n",
        "\n",
        "#gettinf the top 20 app that have generated the maximum revenue through installs\n",
        "paid_df[paid_df['Revenue']==paid_df['Revenue'].max()]\n",
        "top20paid_apps=paid_df.nlargest(20, 'Revenue', keep='first')"
      ],
      "metadata": {
        "id": "QSKqU8ntYVLG"
      },
      "execution_count": null,
      "outputs": []
    },
    {
      "cell_type": "code",
      "source": [
        "# Chart - 8 visualization code\n",
        "top20paid_apps['Category'].value_counts().plot.bar(figsize=(15,5),color=['orange'])\n",
        "plt.xlabel('Category',size=12)\n",
        "plt.ylabel('Number of apps',size=12)\n",
        "plt.title('Categories in which the top 20 paid apps belong', size=15)\n",
        "plt.xticks(rotation=0)\n",
        "plt.legend()\n",
        "plt.show()"
      ],
      "metadata": {
        "id": "TdPTWpAVphqO"
      },
      "execution_count": null,
      "outputs": []
    },
    {
      "cell_type": "markdown",
      "source": [
        "##### 1. Why did you pick the specific chart?"
      ],
      "metadata": {
        "id": "jj7wYXLtphqO"
      }
    },
    {
      "cell_type": "markdown",
      "source": [
        "The above bar gives us the information about the top 20 `paid` apps in terms of revenue generation and among them how many belongs to which category"
      ],
      "metadata": {
        "id": "Ob8u6rCTphqO"
      }
    },
    {
      "cell_type": "markdown",
      "source": [
        "##### 2. What is/are the insight(s) found from the chart?"
      ],
      "metadata": {
        "id": "eZrbJ2SmphqO"
      }
    },
    {
      "cell_type": "markdown",
      "source": [
        "The insight from the above chart are as followed:\n",
        "From Top 20 paid apps in terms of revenue these many apps belongs to each  categories\n",
        "* 5 Apps - `Family` and `Lifestyle`\n",
        "* 4 Apps - `Game`\n",
        "* 1 App - `Finance`,`Photography`,`Wather`,`communication`,`Tools` and `Medical`each\n",
        "\n",
        "\n",
        "\n",
        "\n",
        "\n",
        "\n"
      ],
      "metadata": {
        "id": "mZtgC_hjphqO"
      }
    },
    {
      "cell_type": "markdown",
      "source": [
        "##### 3. Will the gained insights help creating a positive business impact?\n",
        "Are there any insights that lead to negative growth? Justify with specific reason."
      ],
      "metadata": {
        "id": "rFu4xreNphqO"
      }
    },
    {
      "cell_type": "markdown",
      "source": [
        "**Positive Business Impact:**\n",
        "* The presence of 5 apps from the Family and Lifestyle category among the top 20 paid apps indicates a strong revenue-generating potential in this genre. Users are willing to pay for apps that cater to family and lifestyle needs.\n",
        "* The strong representation of Game apps among the top paid apps indicates a continued appetite for premium gaming experiences.\n",
        "\n",
        "**Negative Business Impact:**\n",
        "* Over-reliance on specific categories (such as Family and Lifestyle, and Game) for revenue can be risky. If these categories face market saturation or shifts in user preferences, there may be a significant impact on overall revenue.\n",
        "*  Categories with strong representation, like Family and Lifestyle and Game, may become highly competitive. Increased competition can make it challenging for new entrants or existing apps to gain visibility and generate revenue.\n",
        "\n",
        "\n",
        "\n",
        "\n",
        "\n",
        "  \n",
        "\n",
        ""
      ],
      "metadata": {
        "id": "ey_0qi68phqO"
      }
    },
    {
      "cell_type": "markdown",
      "source": [
        "#### Chart - 9"
      ],
      "metadata": {
        "id": "YJ55k-q6phqO"
      }
    },
    {
      "cell_type": "markdown",
      "source": [
        "### **`9). Distribution of apps based on its size`**"
      ],
      "metadata": {
        "id": "FOfyUYmeaQfw"
      }
    },
    {
      "cell_type": "code",
      "source": [
        "# Getting the maximum and minimum size of apps in the play store data\n",
        "max_size=ps_data['Size'].max()\n",
        "min_size=ps_data['Size'].min()\n",
        "[max_size,min_size]"
      ],
      "metadata": {
        "id": "eDX1XLUladcI"
      },
      "execution_count": null,
      "outputs": []
    },
    {
      "cell_type": "markdown",
      "source": [
        "*   The size of an app in our database varies from 100 MB to 0.0083 MB.\n",
        "We can analyse the size of the apps if we can group them into certain intervals.\n",
        "\n",
        "*   Lets group the data in the size column as follows into intervals of 10 each:\n",
        "\n",
        "(< 1 MB, 1-10, 10-20, 20-30, ..., 90-100, 'Varies with device')"
      ],
      "metadata": {
        "id": "TJ5RdMUAbFuP"
      }
    },
    {
      "cell_type": "code",
      "source": [
        "# Function to group the apps based on its size in MB\n",
        "\n",
        "def size_apps(var):\n",
        "  '''\n",
        "  This function groups the size of an app\n",
        "  between ~0 to 100 MB into certain intervals.\n",
        "  '''\n",
        "  try:\n",
        "    if var < 1:\n",
        "      return 'Below 1'\n",
        "    elif var >= 1 and var <10:\n",
        "      return '1-10'\n",
        "    elif var >= 10 and var <20:\n",
        "      return '10-20'\n",
        "    elif var >= 20 and var <30:\n",
        "      return '20-30'\n",
        "    elif var >= 30 and var <40:\n",
        "      return '30-40'\n",
        "    elif var >= 40 and var <50:\n",
        "      return '40-50'\n",
        "    elif var >= 50 and var <60:\n",
        "      return '50-60'\n",
        "    elif var >= 60 and var <70:\n",
        "      return '60-70'\n",
        "    elif var >= 70 and var <80:\n",
        "      return '70-80'\n",
        "    elif var >= 80 and var <90:\n",
        "      return '80-90'\n",
        "    else:\n",
        "      return '90 and above'\n",
        "  except:\n",
        "    return var"
      ],
      "metadata": {
        "id": "xLrF7GVBbUdG"
      },
      "execution_count": null,
      "outputs": []
    },
    {
      "cell_type": "markdown",
      "source": [
        "**Lets apply the `size_group` function on the Size column and store the results in a new column named `Size` group.**"
      ],
      "metadata": {
        "id": "wsNtQkKDbcoU"
      }
    },
    {
      "cell_type": "code",
      "source": [
        "ps_data['size_group']=ps_data['Size'].apply(lambda x : size_apps(x))\n",
        "ps_data.head()"
      ],
      "metadata": {
        "id": "C8gwBNoLbdlW"
      },
      "execution_count": null,
      "outputs": []
    },
    {
      "cell_type": "code",
      "source": [
        "# Chart - 9 visualization code\n",
        "# no of apps belonging to each size group\n",
        "ps_data['size_group'].value_counts().plot.barh(figsize=(20,8),color='r').invert_yaxis()\n",
        "plt.title(\"Number of apps in different size groups\", size=20)\n",
        "plt.ylabel('App size in MB', size=15)\n",
        "plt.xlabel('No of apps', size=15)\n",
        "plt.legend()\n",
        "plt.show()"
      ],
      "metadata": {
        "id": "B2aS4O1ophqO"
      },
      "execution_count": null,
      "outputs": []
    },
    {
      "cell_type": "markdown",
      "source": [
        "##### 1. Why did you pick the specific chart?"
      ],
      "metadata": {
        "id": "gCFgpxoyphqP"
      }
    },
    {
      "cell_type": "markdown",
      "source": [
        "The above horizontal bar chart gives us the information about the number of apps according to their size group so we can get the insight about the which size group has more number of apps and which size groups has less number of apps"
      ],
      "metadata": {
        "id": "TVxDimi2phqP"
      }
    },
    {
      "cell_type": "markdown",
      "source": [
        "##### 2. What is/are the insight(s) found from the chart?"
      ],
      "metadata": {
        "id": "OVtJsKN_phqQ"
      }
    },
    {
      "cell_type": "markdown",
      "source": [
        "The largest number of apps fall in the size group of 1-10 MB, indicating a preference or trend toward smaller-sized apps.\n",
        "\n",
        "The 10-20 MB size group also has a substantial number of apps. This suggests that developers are creating apps with moderate sizes, potentially striking a balance between features and user device storage constraints.\n",
        "\n",
        "A notable presence of apps in the 90 MB and above category suggests that some developers are creating larger, potentially feature-rich apps.\n"
      ],
      "metadata": {
        "id": "ngGi97qjphqQ"
      }
    },
    {
      "cell_type": "markdown",
      "source": [
        "##### 3. Will the gained insights help creating a positive business impact?\n",
        "Are there any insights that lead to negative growth? Justify with specific reason."
      ],
      "metadata": {
        "id": "lssrdh5qphqQ"
      }
    },
    {
      "cell_type": "markdown",
      "source": [
        "**Positive Business Impact:**\n",
        "* The distribution across different size categories caters to diverse user preferences. Some users prioritize smaller apps for storage efficiency, while others may prefer larger apps for extensive features. This diversity accommodates a wide range of user needs.\n",
        "* Larger app sizes may indicate the potential for innovation and the inclusion of advanced features that require more resources. This allows developers to create more sophisticated applications that push the boundaries of what is possible on mobile devices.\n",
        "\n",
        "**Positive Business Impact:**\n",
        "*  Users with devices limited by storage capacity may face challenges in downloading and retaining multiple larger apps. This can lead to frustration and dissatisfaction, potentially resulting in users avoiding or uninstalling certain apps.\n",
        "* The dominance of smaller apps may result in increased competition within these size categories.\n",
        "\n",
        "\n",
        "\n",
        "\n",
        "\n",
        "   "
      ],
      "metadata": {
        "id": "tBpY5ekJphqQ"
      }
    },
    {
      "cell_type": "markdown",
      "source": [
        "#### Chart - 10"
      ],
      "metadata": {
        "id": "U2RJ9gkRphqQ"
      }
    },
    {
      "cell_type": "code",
      "source": [
        "# Chart - 10 visualization code\n",
        "# average no of user reviews in each size group\n",
        "ps_data.groupby('size_group')['Reviews'].mean().sort_values().plot.barh(figsize=(20,8), color = 'green')\n",
        "plt.title(\"Average number of user reviews (in millions)\", size=20)\n",
        "plt.xlabel('Average no of user reviews', size=15)\n",
        "plt.ylabel('App size in MB', size=15)\n",
        "plt.legend()\n",
        "plt.show()"
      ],
      "metadata": {
        "id": "GM7a4YP4phqQ"
      },
      "execution_count": null,
      "outputs": []
    },
    {
      "cell_type": "markdown",
      "source": [
        "##### 1. Why did you pick the specific chart?"
      ],
      "metadata": {
        "id": "1M8mcRywphqQ"
      }
    },
    {
      "cell_type": "markdown",
      "source": [
        "The above horizontal bar chart gives us the information about the average number of reviews in millions according to their size group so we can get the insight about the which size group has more number of reviews and which size groups has less number of reviews\n",
        "\n"
      ],
      "metadata": {
        "id": "8agQvks0phqQ"
      }
    },
    {
      "cell_type": "markdown",
      "source": [
        "##### 2. What is/are the insight(s) found from the chart?"
      ],
      "metadata": {
        "id": "tgIPom80phqQ"
      }
    },
    {
      "cell_type": "markdown",
      "source": [
        "\n",
        "\n",
        "1. **High Average Reviews for Larger Apps (70-80 and 90 and above):** Apps in the size groups of 70-80 MB and 90 MB and above have the highest average number of reviews in millions. This suggests that larger-sized apps tend to attract more user engagement and feedback, potentially indicating their popularity and widespread use.\n",
        "2.**Moderate to High Reviews for Intermediate Size Groups (20-30, 10-20, 30-40, 40-50, 60-70, 80-90, 50-60):** Apps in these size groups exhibit moderate to high average numbers of reviews, indicating significant user engagement across a range of app sizes. Users appear to provide feedback consistently for apps within these size categories.\n",
        "3.**Low to Moderate Reviews for Smaller Apps (Below 1, 1-10):** Smaller-sized apps (Below 1 MB and 1-10 MB) tend to have lower to moderate average numbers of reviews. While these apps may cater to specific needs, their user engagement might be comparatively lower."
      ],
      "metadata": {
        "id": "Qp13pnNzphqQ"
      }
    },
    {
      "cell_type": "markdown",
      "source": [
        "##### 3. Will the gained insights help creating a positive business impact?\n",
        "Are there any insights that lead to negative growth? Justify with specific reason."
      ],
      "metadata": {
        "id": "JMzcOPDDphqR"
      }
    },
    {
      "cell_type": "markdown",
      "source": [
        " **Positive Business Impact:**\n",
        "* Higher reviews for larger apps might indicate a positive correlation between app size, quality, and user experience. However, it's essential to assess whether the increased size corresponds to valuable features or potential inefficiencies.\n",
        "* Smaller apps may face challenges in attracting significant user engagement and reviews. Developers of smaller apps should focus on targeted marketing, user education, and feature enhancement to boost engagement.\n",
        "\n",
        " **Negative Business Impact:**\n",
        "* Smaller-sized apps (Below 1 MB and 1-10 MB) with lower to moderate average reviews may face challenges in user engagement. This can impact their visibility and discoverability, potentially leading to lower adoption rates and revenue.\n",
        "* Larger-sized apps may be resource-intensive, potentially affecting user devices' storage, memory, and data usage. This can result in negative reviews from users who prioritize efficiency and have devices with limited resources.\n",
        "\n",
        "\n",
        "\n",
        "\n",
        "\n",
        "\n",
        "  \n",
        "   "
      ],
      "metadata": {
        "id": "R4Ka1PC2phqR"
      }
    },
    {
      "cell_type": "markdown",
      "source": [
        "#### Chart - 11"
      ],
      "metadata": {
        "id": "x-EpHcCOp1ci"
      }
    },
    {
      "cell_type": "code",
      "source": [
        "# Chart - 11 visualization code\n",
        "# average number of app installs in each category\n",
        "\n",
        "ps_data.groupby('size_group')['Installs'].mean().sort_values(ascending= False).plot.barh(figsize=(20,8),color='sandybrown').invert_yaxis()\n",
        "plt.title(\"Average number of app installs (In 10 millions)\", size=20)\n",
        "plt.ylabel('App size in MB', size=15)\n",
        "plt.xlabel('Average no of app installs',  size=15)\n",
        "plt.legend()\n",
        "plt.show()"
      ],
      "metadata": {
        "id": "mAQTIvtqp1cj"
      },
      "execution_count": null,
      "outputs": []
    },
    {
      "cell_type": "markdown",
      "source": [
        "##### 1. Why did you pick the specific chart?"
      ],
      "metadata": {
        "id": "X_VqEhTip1ck"
      }
    },
    {
      "cell_type": "markdown",
      "source": [
        "\n",
        "The above horizontal bar chart gives us the information about the average number of app installs in 10 millions according to their size group so we can get the insight about the which size group has more number of app installs and which size groups has less number of app installs"
      ],
      "metadata": {
        "id": "-vsMzt_np1ck"
      }
    },
    {
      "cell_type": "markdown",
      "source": [
        "##### 2. What is/are the insight(s) found from the chart?"
      ],
      "metadata": {
        "id": "8zGJKyg5p1ck"
      }
    },
    {
      "cell_type": "markdown",
      "source": [
        "The key insight that we can drwn from the above graph are as followed:\n",
        "\n",
        "\n",
        "1. High App Installs for Larger Apps (90 and above)\n",
        "2. Substantial Installs for Intermediate Size Groups (70-80, 50-60, 60-70, 80-90, 40-50)\n",
        "3. Moderate to Low Installs for Smaller Apps (Below 1, 1-10)\n",
        "\n",
        "\n",
        "\n",
        "\n"
      ],
      "metadata": {
        "id": "ZYdMsrqVp1ck"
      }
    },
    {
      "cell_type": "markdown",
      "source": [
        "##### 3. Will the gained insights help creating a positive business impact?\n",
        "Are there any insights that lead to negative growth? Justify with specific reason."
      ],
      "metadata": {
        "id": "PVzmfK_Ep1ck"
      }
    },
    {
      "cell_type": "markdown",
      "source": [
        " **Positive Business Impact:**\n",
        "*  The high average number of installs for larger apps (90 MB and above) suggests strong user adoption. These apps may offer extensive features or valuable functionalities, leading to increased user installations and potentially higher user satisfaction.\n",
        "* The substantial average installs for apps in various intermediate size groups indicate diverse user adoption across a range of app sizes. Users are willing to install and use apps with varying sizes, reflecting a broad app ecosystem.\n",
        "\n",
        "**Negative Business Impact:**\n",
        "\n",
        "* Users with devices limited by these resources may be hesitant to install or retain large apps, resulting in a negative impact on user adoption and satisfaction.\n",
        "*  Smaller-sized apps (Below 1 MB and 1-10 MB) facing moderate to low average installs may encounter challenges in gaining visibility and competing with larger apps. This can lead to limited user adoption, reducing the app's overall success and revenue potential.\n",
        "\n",
        "\n",
        "\n",
        "\n",
        "\n",
        "  \n",
        ""
      ],
      "metadata": {
        "id": "druuKYZpp1ck"
      }
    },
    {
      "cell_type": "markdown",
      "source": [
        "### **Does Last Update date has an effects on rating?**"
      ],
      "metadata": {
        "id": "HZ-HwhQC7S9s"
      }
    },
    {
      "cell_type": "code",
      "source": [
        "print(ps_data['Last Updated'].head())\n",
        "#fetch update year from date\n",
        "ps_data[\"Update year\"] = ps_data[\"Last Updated\"].apply(lambda x: x.strftime('%Y')).astype('int64')"
      ],
      "metadata": {
        "id": "VTqr0UUr7Ux2"
      },
      "execution_count": null,
      "outputs": []
    },
    {
      "cell_type": "code",
      "source": [
        "fig, ax = plt.subplots(figsize=(12,6))\n",
        "sns.regplot(x=\"Update year\", y=\"Rating\", data=ps_data)\n",
        "plt.title(\"Update Year VS Rating\")\n",
        "plt.show()"
      ],
      "metadata": {
        "id": "gVYd5-kd7gm-"
      },
      "execution_count": null,
      "outputs": []
    },
    {
      "cell_type": "markdown",
      "source": [
        "1. Why did you pick the specific chart?"
      ],
      "metadata": {
        "id": "pUxEPJj3VKWg"
      }
    },
    {
      "cell_type": "markdown",
      "source": [
        "The regression plot gives us the insight about the relationship between the last update year of apps and their ratings if there is any relationship"
      ],
      "metadata": {
        "id": "L9CBPFyLVNVj"
      }
    },
    {
      "cell_type": "markdown",
      "source": [
        "2. What is/are the insight(s) found from the chart?"
      ],
      "metadata": {
        "id": "prBtaoMcVqvJ"
      }
    },
    {
      "cell_type": "markdown",
      "source": [
        "The above regression chart show that there is a slight positive relationship between the last update year and the rating of the app"
      ],
      "metadata": {
        "id": "qYaG3K82Vx2M"
      }
    },
    {
      "cell_type": "markdown",
      "source": [
        "3. Will the gained insights help creating a positive business impact?\n",
        "\n",
        "Are there any insights that lead to negative growth? Justify with specific reason."
      ],
      "metadata": {
        "id": "nNqftds6WNuy"
      }
    },
    {
      "cell_type": "markdown",
      "source": [
        "**Positive Business Impact:**\n",
        "* The slight positive relationship on the regression plot suggests that, on average, apps with more recent last update years tend to have slightly higher ratings. This could indicate that users perceive newer updates as improvements, leading to better app ratings.\n",
        "* Users might appreciate developers who actively maintain and enhance their apps, resulting in higher ratings for the updated versions.\n",
        "* Consistent updates can lead to improved user experiences, enhanced features, and increased user satisfaction, contributing to higher ratings.\n",
        "\n",
        "**Negative Business Impact:**\n",
        "* Users may develop expectations for improved app quality with each update. If a newer update does not meet these expectations or fails to address critical issues, users may be disappointed, leading to negative reviews and potentially lower ratings.\n",
        "* Users might experience fatigue or frustration if updates introduce unwanted changes or if the frequency of updates is too high. Rapid changes without clear user benefits may lead to negative perceptions and lower app ratings.\n",
        "\n",
        "\n",
        "\n",
        "\n",
        "\n",
        "\n",
        "\n",
        "\n",
        "\n",
        "  \n",
        "\n",
        ""
      ],
      "metadata": {
        "id": "nQ9xpg-zWSwu"
      }
    },
    {
      "cell_type": "markdown",
      "source": [
        "#### Chart - 12"
      ],
      "metadata": {
        "id": "n3dbpmDWp1ck"
      }
    },
    {
      "cell_type": "code",
      "source": [
        "# Chart - 12 visualization code\n",
        "counts=ur_data['Sentiment'].value_counts()\n",
        "labels = 'Positive Reviews', 'Negative Reviews','Neutral Reviews'\n",
        "plt.pie(counts, labels=labels, explode=[0.01, 0.05, 0.05], shadow=True, autopct=\"%.2f%%\")\n",
        "plt.title('Percentage of Review Sentiments', fontsize=15)\n",
        "plt.legend(bbox_to_anchor=(0.9, 0, 0.5, 1))\n",
        "plt.show()"
      ],
      "metadata": {
        "id": "bwevp1tKp1ck"
      },
      "execution_count": null,
      "outputs": []
    },
    {
      "cell_type": "markdown",
      "source": [
        "##### 1. Why did you pick the specific chart?"
      ],
      "metadata": {
        "id": "ylSl6qgtp1ck"
      }
    },
    {
      "cell_type": "markdown",
      "source": [
        "The above pie chart gives us the insight about the sentiment of people in terms of `positive , negative and nutral` reviews. it helps us to compare the percentage of different review sentiments ."
      ],
      "metadata": {
        "id": "m2xqNkiQp1ck"
      }
    },
    {
      "cell_type": "markdown",
      "source": [
        "##### 2. What is/are the insight(s) found from the chart?"
      ],
      "metadata": {
        "id": "ZWILFDl5p1ck"
      }
    },
    {
      "cell_type": "markdown",
      "source": [
        "**Findings:**\n",
        "\n",
        "1. Positive reviews are **64.30%**\n",
        "2. Negative reviews are **22.80%**\n",
        "3. Neutral reviews are **12.90%**"
      ],
      "metadata": {
        "id": "x-lUsV2mp1ck"
      }
    },
    {
      "cell_type": "markdown",
      "source": [
        "##### 3. Will the gained insights help creating a positive business impact?\n",
        "Are there any insights that lead to negative growth? Justify with specific reason."
      ],
      "metadata": {
        "id": "M7G43BXep1ck"
      }
    },
    {
      "cell_type": "markdown",
      "source": [
        " **Positive Business Impact:**\n",
        "* The dominance of positive sentiments suggests that the majority of users have a positive perception of the apps. This can contribute to a strong reputation, increased user loyalty, and positive word-of-mouth, potentially attracting new users.\n",
        "* Developers can leverage positive sentiments to gain recognition and build trust within the user community. Positive reviews can serve as testimonials, contributing to the app's credibility and success.\n",
        "\n",
        "**Negative Business Impact:**\n",
        "\n",
        "*  Persistent negative sentiments may contribute to user dissatisfaction and, ultimately, user churn. Users dissatisfied with their experiences may uninstall the app, leading to a decline in active user numbers and potential revenue loss.\n",
        "* The presence of negative sentiments (22.80%) indicates that a notable portion of users has expressed dissatisfaction or encountered issues. Failure to address and resolve these issues promptly can lead to a decline in user satisfaction, potentially resulting in decreased user retention and negative word-of-mouth.\n",
        "\n",
        "\n",
        "\n",
        "  \n",
        "   \n",
        "   "
      ],
      "metadata": {
        "id": "5wwDJXsLp1cl"
      }
    },
    {
      "cell_type": "markdown",
      "source": [
        "#### Chart - 13"
      ],
      "metadata": {
        "id": "Ag9LCva-p1cl"
      }
    },
    {
      "cell_type": "code",
      "source": [
        "# positive reviews\n",
        "positive_ur_df=ur_data[ur_data['Sentiment']=='Positive']\n",
        "\n",
        "# negative reviews\n",
        "negative_ur_df=ur_data[ur_data['Sentiment']=='Negative']"
      ],
      "metadata": {
        "id": "VKQIZL1qgBH4"
      },
      "execution_count": null,
      "outputs": []
    },
    {
      "cell_type": "code",
      "source": [
        "# Getting the Top 10 apps with positive and negative reviews\n",
        "Top_10_positive = positive_ur_df.groupby('App')['Sentiment'].value_counts().nlargest(10)\n",
        "Top_10_negative = negative_ur_df.groupby('App')['Sentiment'].value_counts().nlargest(10)\n",
        "\n",
        "# creating a sublplot for top 10 app with positive reviews\n",
        "plt.subplot(2, 1, 1)\n",
        "Top_10_positive.plot.barh(Top_10_positive ,color='seagreen').invert_yaxis()\n",
        "plt.title(\"Top 10 positive review apps\")\n",
        "plt.xlabel('Total number of positive reviews')\n",
        "\n",
        "# creating a sublplot for top 10 app with negative reviews\n",
        "plt.subplot(2, 1, 2)\n",
        "Top_10_negative.plot.barh(Top_10_positive ,color='crimson').invert_yaxis()\n",
        "plt.title(\"Top 10 negative review apps\")\n",
        "plt.xlabel('Total number of negative reviews')\n",
        "\n",
        "\n",
        "plt.tight_layout()\n",
        "plt.show()"
      ],
      "metadata": {
        "id": "rqh3TXKsi9cv"
      },
      "execution_count": null,
      "outputs": []
    },
    {
      "cell_type": "markdown",
      "source": [
        "##### 1. Why did you pick the specific chart?"
      ],
      "metadata": {
        "id": "E6MkPsBcp1cl"
      }
    },
    {
      "cell_type": "markdown",
      "source": [
        "The horizontal bar chart gives us the top 10 positively reviewed app and top 10 negatively reviewed and the number of reviews respectively"
      ],
      "metadata": {
        "id": "V22bRsFWp1cl"
      }
    },
    {
      "cell_type": "markdown",
      "source": [
        "##### 2. What is/are the insight(s) found from the chart?"
      ],
      "metadata": {
        "id": "2cELzS2fp1cl"
      }
    },
    {
      "cell_type": "markdown",
      "source": [
        "**Findings**\n",
        "1. Positive reviews span diverse categories, including gaming (Helix Jump, Bowmasters), language learning (Duolingo), fitness (Calorie Counter - Macros, MyFitnessPal), and utility (Google Photos, 8fit Workouts & Meal Planner).\n",
        "2. Bowmasters and Garena Free Fire appear in both positive and negative reviews, emphasizing the diverse experiences and opinions users have with these apps.\n",
        "3. Negative sentiments are prominent in gaming and entertainment apps (Angry Birds Classic, Candy Crush Saga, Garena Free Fire), highlighting potential challenges in delivering satisfying experiences to users.\n",
        "\n",
        "\n",
        "\n",
        "\n"
      ],
      "metadata": {
        "id": "ozQPc2_Ip1cl"
      }
    },
    {
      "cell_type": "markdown",
      "source": [
        "##### 3. Will the gained insights help creating a positive business impact?\n",
        "Are there any insights that lead to negative growth? Justify with specific reason."
      ],
      "metadata": {
        "id": "3MPXvC8up1cl"
      }
    },
    {
      "cell_type": "markdown",
      "source": [
        "**Positive Business Impact:**\n",
        "* Developers should carefully analyze common themes or issues raised in negative reviews for each app. Identifying patterns can guide targeted improvements to address user concerns.\n",
        "* Developers should engage with users who provide negative feedback. Responding to concerns, acknowledging issues, and providing solutions can demonstrate a commitment to user satisfaction and foster a positive relationship.\n",
        "\n",
        "**Negative Business Impact:**\n",
        "\n",
        "* Developers may face challenges in addressing negative feedback, especially if common themes or issues persist across reviews. Failure to effectively resolve these issues can perpetuate negative sentiments and hinder the app's overall success.\n",
        "* Apps with a high number of negative reviews may face a competitive disadvantage compared to apps with more positive sentiments. Users may opt for alternatives with better reviews, impacting the app's market position and competitiveness.\n",
        "\n",
        "\n",
        "\n",
        "\n",
        "\n",
        "\n",
        "\n",
        "  "
      ],
      "metadata": {
        "id": "GL8l1tdLp1cl"
      }
    },
    {
      "cell_type": "markdown",
      "source": [
        "#### Chart - 14 - Correlation Heatmap"
      ],
      "metadata": {
        "id": "NC_X3p0fY2L0"
      }
    },
    {
      "cell_type": "code",
      "source": [
        "# Correlation Heatmap visualization code"
      ],
      "metadata": {
        "id": "xyC9zolEZNRQ"
      },
      "execution_count": null,
      "outputs": []
    },
    {
      "cell_type": "code",
      "source": [
        "# Heat map for play_store\n",
        "plt.figure(figsize = (12,8))\n",
        "sns.heatmap(ps_data.corr(), annot= True)\n",
        "plt.title('Corelation Heatmap for Playstore Data', size=20)\n",
        "plt.show()"
      ],
      "metadata": {
        "id": "EXgUbFQ540jM"
      },
      "execution_count": null,
      "outputs": []
    },
    {
      "cell_type": "markdown",
      "source": [
        "### **Let us check if there is any co-relation in both the dataframes.**"
      ],
      "metadata": {
        "id": "ffE1CEOL50E3"
      }
    },
    {
      "cell_type": "code",
      "source": [
        "merged_df = pd.merge(ps_data, ur_data, on='App', how = \"inner\")"
      ],
      "metadata": {
        "id": "VH-sxhKO51N9"
      },
      "execution_count": null,
      "outputs": []
    },
    {
      "cell_type": "code",
      "source": [
        "# Correlation heatmap\n",
        "# Heat Map for the merged data frame\n",
        "plt.figure(figsize = (15,10))\n",
        "sns.heatmap(merged_df.corr(), annot= True, cmap='Greens')\n",
        "plt.title(' Heatmap for merged Dataframe', size=20)\n",
        "plt.show()"
      ],
      "metadata": {
        "id": "ld4VYkK35Xxf"
      },
      "execution_count": null,
      "outputs": []
    },
    {
      "cell_type": "markdown",
      "source": [
        "##### 1. Why did you pick the specific chart?"
      ],
      "metadata": {
        "id": "UV0SzAkaZNRQ"
      }
    },
    {
      "cell_type": "markdown",
      "source": [
        "Heatmap can be super useful when you want to see which intersections of the categorical values have higher concentration of the data compared to the others."
      ],
      "metadata": {
        "id": "DVPuT8LYZNRQ"
      }
    },
    {
      "cell_type": "markdown",
      "source": [
        "##### 2. What is/are the insight(s) found from the chart?"
      ],
      "metadata": {
        "id": "YPEH6qLeZNRQ"
      }
    },
    {
      "cell_type": "markdown",
      "source": [
        "\n",
        "**Correlation Findings:**\n",
        "\n",
        "**Rating Influence:**\n",
        "Weak positive correlation between reviews, size, and sentiment polarity with app ratings.\n",
        "\n",
        "Moderate positive correlation with the update year indicates recent updates associate with higher ratings.\n",
        "\n",
        "**Reviews and Engagement:**\n",
        "Reviews have a moderate positive correlation with app size and installs.\n",
        "Sentiment polarity shows a weak negative correlation with reviews.\n",
        "\n",
        "**Size and Sentiment:**\n",
        "Moderate positive correlation between app size and update year.\n",
        "Weak negative correlation between size and sentiment polarity.\n",
        "\n",
        "**Update Year and Sentiment:**\n",
        "Moderate positive correlation between the update year and sentiment polarity.\n",
        "Very weak positive correlation with sentiment subjectivity."
      ],
      "metadata": {
        "id": "bfSqtnDqZNRR"
      }
    },
    {
      "cell_type": "markdown",
      "source": [
        "#### Chart - 15 - Pair Plot"
      ],
      "metadata": {
        "id": "q29F0dvdveiT"
      }
    },
    {
      "cell_type": "code",
      "source": [
        "# Pair Plot visualization code\n",
        "sns.pairplot(ps_data)"
      ],
      "metadata": {
        "id": "o58-TEIhveiU"
      },
      "execution_count": null,
      "outputs": []
    },
    {
      "cell_type": "markdown",
      "source": [
        "##### 1. Why did you pick the specific chart?"
      ],
      "metadata": {
        "id": "EXh0U9oCveiU"
      }
    },
    {
      "cell_type": "markdown",
      "source": [
        "Answer Here."
      ],
      "metadata": {
        "id": "eMmPjTByveiU"
      }
    },
    {
      "cell_type": "markdown",
      "source": [
        "##### 2. What is/are the insight(s) found from the chart?"
      ],
      "metadata": {
        "id": "22aHeOlLveiV"
      }
    },
    {
      "cell_type": "markdown",
      "source": [
        "Answer Here"
      ],
      "metadata": {
        "id": "uPQ8RGwHveiV"
      }
    },
    {
      "cell_type": "markdown",
      "source": [
        "## **5. Solution to Business Objective**"
      ],
      "metadata": {
        "id": "JcMwzZxoAimU"
      }
    },
    {
      "cell_type": "markdown",
      "source": [
        "#### What do you suggest the client to achieve Business Objective ?\n",
        "Explain Briefly."
      ],
      "metadata": {
        "id": "8G2x9gOozGDZ"
      }
    },
    {
      "cell_type": "markdown",
      "source": [
        "1. Developing apps related to the least categories as they are not explored much. Like events and beauty.\n",
        "2. Most of the apps are Free, so focusing on free app is more important.\n",
        "3. Focusing more on content available for Everyone will increase the chances of getting the highest installs.\n",
        "4. They need to focus on updating their apps regularly, so that it will attract more users.\n",
        "5. They need to keep in mind that the sentiments of the user keep varying as they keep using the app, so they should focus more on users needs and features."
      ],
      "metadata": {
        "id": "pASKb0qOza21"
      }
    },
    {
      "cell_type": "markdown",
      "source": [
        "# **Conclusion**"
      ],
      "metadata": {
        "id": "gCX9965dhzqZ"
      }
    },
    {
      "cell_type": "markdown",
      "source": [
        "* Percentage of free apps = ~92%\n",
        "* Percentage of apps with no age restrictions = ~82%\n",
        "* Most competitive category: Family\n",
        "* Category with the highest average app installs: Game\n",
        "* Percentage of apps that are top rated = ~80%\n",
        "* Family, Game and Tools are top three categories having 1906, 926 and 829 app count.\n",
        "* Tools, Entertainment, Education, Buisness and Medical are top Genres.\n",
        "* 8783 Apps are having size less than 50 MB. 7749 Apps are having rating more than 4.0 including both type of apps.\n",
        "* There are 20 free apps that have been installed over a billion times.\n",
        "* Minecraft is the only app in the paid category with over 10M installs. This app has also produced the most revenue only from the installation fee.\n",
        "* Category in which the paid apps have the highest average installation fee: Finance\n",
        "* The median size of all apps in the play store is 12 MB.\n",
        "* The apps whose size is greater than 90 MB has the highest number of average user reviews, ie, they are more popular than the rest.\n",
        "* Helix Jump has the highest number of positive reviews and Angry Birds Classic has the highest number of negative reviews.\n",
        "* Overall sentiment count of merged dataset in which Positive sentiment count is 64%, Negative 22% and Neutral 13%."
      ],
      "metadata": {
        "id": "Bbd9DsjF8B_e"
      }
    },
    {
      "cell_type": "markdown",
      "source": [
        "**1.Rating**\n",
        "\n",
        "Most of the apps have rating in between 4 and 5.\n",
        "\n",
        "Most numbers of apps are rated at 4.3\n",
        "\n",
        "Categories of apps have more than 4 average rating.item\n",
        "\n",
        " **2.Size**\n",
        "\n",
        "Maximum number of applications present in the dataset are of small size.\n",
        "\n",
        "**3.Installs**\n",
        "\n",
        "Majority of the apps come into these three categories, Family, Game, and Tools.\n",
        "\n",
        "Maximum number of apps present in google play store come under Family, Game and tools but as per the installation and requirement in the market plot, scenario is not the same. Maximum installed apps comes under Game, Communication, Productivity and Social.\n",
        "\n",
        "Subway Surfers, Facebook, Messenger and Google Drive are the most installed apps.\n",
        "\n",
        "**4.Type(Free/Paid)**\n",
        "\n",
        "About 92% apps are free and 8% apps are of paid type.\n",
        "\n",
        "The category ‘Family’ has the highest number of paid apps.\n",
        "\n",
        "Free apps are installed more than paid apps.\n",
        "\n",
        "The app “I’m Rich — Trump Edition” from the category ‘Lifestyle’ is the most costly app priced at $400\n",
        "\n",
        "**5.Content Rating**\n",
        "\n",
        "Content having Everyone only has most installs, while unrated and Adults only 18+ have less installs.\n",
        "\n",
        "**6.Reviews**\n",
        "\n",
        "Number of installs is positively correlated with reviews with correlation 0.64.\n",
        "Sentiment Analysis\n",
        "\n",
        "**7.Sentiment**\n",
        "\n",
        "Most of the reviews are of Positive Sentiment, while Negative and Neutral have low number of reviews."
      ],
      "metadata": {
        "id": "Fjb1IsQkh3yE"
      }
    },
    {
      "cell_type": "markdown",
      "source": [
        "### ***Hurrah! You have successfully completed your EDA Capstone Project !!!***"
      ],
      "metadata": {
        "id": "gIfDvo9L0UH2"
      }
    }
  ]
}