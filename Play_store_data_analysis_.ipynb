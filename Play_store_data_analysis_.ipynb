{
  "nbformat": 4,
  "nbformat_minor": 0,
  "metadata": {
    "colab": {
      "private_outputs": true,
      "provenance": [],
      "collapsed_sections": [
        "vncDsAP0Gaoa",
        "FJNUwmbgGyua",
        "w6K7xa23Elo4",
        "yQaldy8SH6Dl",
        "PH-0ReGfmX4f",
        "mDgbUHAGgjLW",
        "O_i_v8NEhb9l",
        "HhfV-JJviCcP",
        "Y3lxredqlCYt",
        "3RnN4peoiCZX",
        "x71ZqKXriCWQ",
        "7hBIi_osiCS2",
        "JlHwYmJAmNHm",
        "35m5QtbWiB9F",
        "PoPl-ycgm1ru",
        "H0kj-8xxnORC",
        "nA9Y7ga8ng1Z",
        "PBTbrJXOngz2",
        "u3PMJOP6ngxN",
        "dauF4eBmngu3",
        "bKJF3rekwFvQ",
        "MSa1f5Uengrz",
        "GF8Ens_Soomf",
        "0wOQAZs5pc--",
        "K5QZ13OEpz2H",
        "lQ7QKXXCp7Bj",
        "448CDAPjqfQr",
        "KSlN3yHqYklG",
        "t6dVpIINYklI",
        "ijmpgYnKYklI",
        "-JiQyfWJYklI",
        "EM7whBJCYoAo",
        "fge-S5ZAYoAp",
        "85gYPyotYoAp",
        "RoGjAbkUYoAp",
        "4Of9eVA-YrdM",
        "iky9q4vBYrdO",
        "F6T5p64dYrdO",
        "y-Ehk30pYrdP",
        "bamQiAODYuh1",
        "QHF8YVU7Yuh3",
        "GwzvFGzlYuh3",
        "qYpmQ266Yuh3",
        "OH-pJp9IphqM",
        "bbFf2-_FphqN",
        "_ouA3fa0phqN",
        "Seke61FWphqN",
        "PIIx-8_IphqN",
        "t27r6nlMphqO",
        "r2jJGEOYphqO",
        "b0JNsNcRphqO",
        "BZR9WyysphqO",
        "jj7wYXLtphqO",
        "eZrbJ2SmphqO",
        "rFu4xreNphqO",
        "YJ55k-q6phqO",
        "gCFgpxoyphqP",
        "OVtJsKN_phqQ",
        "lssrdh5qphqQ",
        "U2RJ9gkRphqQ",
        "1M8mcRywphqQ",
        "tgIPom80phqQ",
        "JMzcOPDDphqR",
        "x-EpHcCOp1ci",
        "X_VqEhTip1ck",
        "8zGJKyg5p1ck",
        "PVzmfK_Ep1ck",
        "n3dbpmDWp1ck",
        "ylSl6qgtp1ck",
        "ZWILFDl5p1ck",
        "M7G43BXep1ck",
        "Ag9LCva-p1cl",
        "E6MkPsBcp1cl",
        "2cELzS2fp1cl",
        "3MPXvC8up1cl",
        "NC_X3p0fY2L0",
        "UV0SzAkaZNRQ",
        "YPEH6qLeZNRQ",
        "q29F0dvdveiT",
        "EXh0U9oCveiU",
        "22aHeOlLveiV",
        "JcMwzZxoAimU",
        "8G2x9gOozGDZ",
        "gCX9965dhzqZ",
        "gIfDvo9L0UH2"
      ],
      "include_colab_link": true
    },
    "kernelspec": {
      "name": "python3",
      "display_name": "Python 3"
    },
    "language_info": {
      "name": "python"
    }
  },
  "cells": [
    {
      "cell_type": "markdown",
      "metadata": {
        "id": "view-in-github",
        "colab_type": "text"
      },
      "source": [
        "<a href=\"https://colab.research.google.com/github/dj1550/CAPSTON-PROJECT-2-Play-Store-Data-Analysis/blob/main/Play_store_data_analysis_.ipynb\" target=\"_parent\"><img src=\"https://colab.research.google.com/assets/colab-badge.svg\" alt=\"Open In Colab\"/></a>"
      ]
    },
    {
      "cell_type": "markdown",
      "source": [
        "# **Project Name**    -\n",
        "\n"
      ],
      "metadata": {
        "id": "vncDsAP0Gaoa"
      }
    },
    {
      "cell_type": "markdown",
      "source": [
        "##### **Project Type**    - EDA\n",
        "##### **Contribution**    - Individual (DEEPAK VISHWAKARMA)\n"
      ],
      "metadata": {
        "id": "beRrZCGUAJYm"
      }
    },
    {
      "cell_type": "markdown",
      "source": [
        "# **Project Summary -**"
      ],
      "metadata": {
        "id": "FJNUwmbgGyua"
      }
    },
    {
      "cell_type": "markdown",
      "source": [
        "📱 Hi everybody !\n",
        "In this notebook, I'm gonna analyze Google Play Store datas. While I was analyzing the data, I used Python. This study is my first data analyzing study.\n",
        "\n",
        "Google Play Store apps and reviews Mobile apps are everywhere. They are easy to create and can be lucrative. Because of these two factors, more and more apps are being developed. In this notebook, we will do a comprehensive analysis of the Android app market by comparing over ten thousand apps in Google Play across different categories. We'll look for insights in the data to devise strategies to drive growth and retention.\n",
        "\n",
        "Let's take a look at the data, which consists of two files:\n",
        "\n",
        "playstore data.csv: contains all the details of the applications on Google Play. There are 13 features that describe a given app.\n",
        "user_reviews.csv: contains 100 reviews for each app, most helpful first. The text in each review has been pre-processed and attributed with three new features: Sentiment (Positive, Negative or Neutral), Sentiment Polarity and Sentiment Subjectivity."
      ],
      "metadata": {
        "id": "F6v_1wHtG2nS"
      }
    },
    {
      "cell_type": "markdown",
      "source": [
        "# **GitHub Link -**"
      ],
      "metadata": {
        "id": "w6K7xa23Elo4"
      }
    },
    {
      "cell_type": "markdown",
      "source": [
        "Provide your GitHub Link here."
      ],
      "metadata": {
        "id": "h1o69JH3Eqqn"
      }
    },
    {
      "cell_type": "markdown",
      "source": [
        "# **Problem Statement**\n"
      ],
      "metadata": {
        "id": "yQaldy8SH6Dl"
      }
    },
    {
      "cell_type": "markdown",
      "source": [
        "# **Problem Statements**\n",
        "1. What are the top categories on Play Store?\n",
        "2. Are majority of the apps Paid or Free?\n",
        "3. How importance is the rating of the application?\n",
        "4. Which categories from the audience should the app be based on?\n",
        "5. Which category has the most no. of installations?\n",
        "6. How does the count of apps varies by Genres?\n",
        "7. How does the last update has an effect on the rating?\n",
        "8. How are ratings affected when the app is a paid one?\n",
        "9. How are reviews and ratings co-related?\n",
        "11. Is subjectivity and polarity proportional to each other?\n",
        "12. What is the percentage of review sentiments?\n",
        "13. How is sentiment polarity varying for paid and free apps?\n",
        "14. How Content Rating affect over the App?\n",
        "15. Does Last Update date has an effects on rating?\n"
      ],
      "metadata": {
        "id": "DpeJGUA3kjGy"
      }
    },
    {
      "cell_type": "markdown",
      "source": [
        "#### **Define Your Business Objective?**"
      ],
      "metadata": {
        "id": "PH-0ReGfmX4f"
      }
    },
    {
      "cell_type": "markdown",
      "source": [
        "The Play Store apps data has enormous potential to drive app-making businesses to success. Actionable insights can be drawn for developers to work on and capture the Android market.\n",
        "Each app (row) has values for catergory, rating, size, and more. Another dataset contains customer reviews of the android apps.\n",
        "Explore and analyze the data to discover key factors responsible for app engagement and success."
      ],
      "metadata": {
        "id": "PhDvGCAqmjP1"
      }
    },
    {
      "cell_type": "markdown",
      "source": [
        "# **General Guidelines** : -  "
      ],
      "metadata": {
        "id": "mDgbUHAGgjLW"
      }
    },
    {
      "cell_type": "markdown",
      "source": [
        "1.   Well-structured, formatted, and commented code is required.\n",
        "2.   Exception Handling, Production Grade Code & Deployment Ready Code will be a plus. Those students will be awarded some additional credits.\n",
        "     \n",
        "     The additional credits will have advantages over other students during Star Student selection.\n",
        "       \n",
        "             [ Note: - Deployment Ready Code is defined as, the whole .ipynb notebook should be executable in one go\n",
        "                       without a single error logged. ]\n",
        "\n",
        "3.   Each and every logic should have proper comments.\n",
        "4. You may add as many number of charts you want. Make Sure for each and every chart the following format should be answered.\n",
        "        \n",
        "\n",
        "```\n",
        "# Chart visualization code\n",
        "```\n",
        "            \n",
        "\n",
        "*   Why did you pick the specific chart?\n",
        "*   What is/are the insight(s) found from the chart?\n",
        "* Will the gained insights help creating a positive business impact?\n",
        "Are there any insights that lead to negative growth? Justify with specific reason.\n",
        "\n",
        "5. You have to create at least 20 logical & meaningful charts having important insights.\n",
        "\n",
        "\n",
        "[ Hints : - Do the Vizualization in  a structured way while following \"UBM\" Rule.\n",
        "\n",
        "U - Univariate Analysis,\n",
        "\n",
        "B - Bivariate Analysis (Numerical - Categorical, Numerical - Numerical, Categorical - Categorical)\n",
        "\n",
        "M - Multivariate Analysis\n",
        " ]\n",
        "\n",
        "\n",
        "\n"
      ],
      "metadata": {
        "id": "ZrxVaUj-hHfC"
      }
    },
    {
      "cell_type": "markdown",
      "source": [
        "# ***Let's Begin !***"
      ],
      "metadata": {
        "id": "O_i_v8NEhb9l"
      }
    },
    {
      "cell_type": "markdown",
      "source": [
        "## ***1. Know Your Data***"
      ],
      "metadata": {
        "id": "HhfV-JJviCcP"
      }
    },
    {
      "cell_type": "markdown",
      "source": [
        "### Import Libraries"
      ],
      "metadata": {
        "id": "Y3lxredqlCYt"
      }
    },
    {
      "cell_type": "code",
      "source": [
        "# Import Libraries\n",
        "import numpy as np\n",
        "import pandas as pd\n",
        "import matplotlib.pyplot as plt\n",
        "import seaborn as sns"
      ],
      "metadata": {
        "id": "M8Vqi-pPk-HR"
      },
      "execution_count": null,
      "outputs": []
    },
    {
      "cell_type": "markdown",
      "source": [
        "### Dataset Loading"
      ],
      "metadata": {
        "id": "3RnN4peoiCZX"
      }
    },
    {
      "cell_type": "code",
      "source": [
        "from google.colab import drive\n",
        "drive.mount('/content/drive')"
      ],
      "metadata": {
        "id": "M-DtKD7-435I"
      },
      "execution_count": null,
      "outputs": []
    },
    {
      "cell_type": "code",
      "source": [
        "# Load Play store Dataset\n",
        "path='/content/drive/MyDrive/datasets/Play Store App Review Analysis/Play Store Data.csv'\n",
        "ps_data=pd.read_csv(path)"
      ],
      "metadata": {
        "id": "4CkvbW_SlZ_R"
      },
      "execution_count": null,
      "outputs": []
    },
    {
      "cell_type": "markdown",
      "source": [
        "### Dataset First View"
      ],
      "metadata": {
        "id": "x71ZqKXriCWQ"
      }
    },
    {
      "cell_type": "code",
      "source": [
        "# Dataset First Look\n",
        "ps_data"
      ],
      "metadata": {
        "id": "LWNFOSvLl09H"
      },
      "execution_count": null,
      "outputs": []
    },
    {
      "cell_type": "markdown",
      "source": [
        "### Dataset Rows & Columns count"
      ],
      "metadata": {
        "id": "7hBIi_osiCS2"
      }
    },
    {
      "cell_type": "code",
      "source": [
        "# Dataset Rows & Columns count\n",
        "ps_data.shape"
      ],
      "metadata": {
        "id": "Kllu7SJgmLij"
      },
      "execution_count": null,
      "outputs": []
    },
    {
      "cell_type": "markdown",
      "source": [
        "play_store dataframe has 10841 rows and 13 columns"
      ],
      "metadata": {
        "id": "wig3SDKC_Yz6"
      }
    },
    {
      "cell_type": "markdown",
      "source": [
        "### Dataset Information"
      ],
      "metadata": {
        "id": "JlHwYmJAmNHm"
      }
    },
    {
      "cell_type": "code",
      "source": [
        "# Dataset Info\n",
        "ps_data.info()"
      ],
      "metadata": {
        "id": "e9hRXRi6meOf"
      },
      "execution_count": null,
      "outputs": []
    },
    {
      "cell_type": "markdown",
      "source": [
        "#### Duplicate Values"
      ],
      "metadata": {
        "id": "35m5QtbWiB9F"
      }
    },
    {
      "cell_type": "code",
      "source": [
        "# Dataset Duplicate Value Count\n",
        "ps_data['App'].duplicated().value_counts()"
      ],
      "metadata": {
        "id": "1sLdpKYkmox0"
      },
      "execution_count": null,
      "outputs": []
    },
    {
      "cell_type": "markdown",
      "source": [
        "The play store data has 1181 duplicate values for any App"
      ],
      "metadata": {
        "id": "4ePAZ2TI_kpx"
      }
    },
    {
      "cell_type": "markdown",
      "source": [
        "#### Missing Values/Null Values , Unique values , percentage of null values"
      ],
      "metadata": {
        "id": "PoPl-ycgm1ru"
      }
    },
    {
      "cell_type": "code",
      "source": [
        "# Creating a function which gives us a DataFrame containing (data type ,null values ,non null values ,unique values and % of null values)\n",
        "def playstore_info():\n",
        "  temp=pd.DataFrame(index=ps_data.columns)\n",
        "  temp['Datatype']=ps_data.dtypes\n",
        "  temp['null values']=ps_data.isnull().sum()\n",
        "  temp['non null values']=ps_data.count()\n",
        "  temp['unique values']=ps_data.nunique()\n",
        "  temp['% of null values']=ps_data.isnull().mean()\n",
        "  return temp\n",
        "\n",
        "playstore_info()"
      ],
      "metadata": {
        "id": "GgHWkxvamxVg"
      },
      "execution_count": null,
      "outputs": []
    },
    {
      "cell_type": "markdown",
      "source": [
        "**Findings**\n",
        "\n",
        "The number of null values are:\n",
        "\n",
        "Rating has 1474 null values which contributes 13.60% of the data. Type has 1 null value which contributes 0.01% of the data. Content_Rating has 1 null value which contributes 0.01% of the data. Current_Ver has 8 null values which contributes 0.07% of the data. Android_Ver has 3 null values which contributes 0.03% of the data."
      ],
      "metadata": {
        "id": "UkgQB18PAn0X"
      }
    },
    {
      "cell_type": "markdown",
      "source": [
        "### What did you know about your dataset?"
      ],
      "metadata": {
        "id": "H0kj-8xxnORC"
      }
    },
    {
      "cell_type": "markdown",
      "source": [
        "Answer Here"
      ],
      "metadata": {
        "id": "gfoNAAC-nUe_"
      }
    },
    {
      "cell_type": "markdown",
      "source": [
        "## ***2. Understanding Your Variables***"
      ],
      "metadata": {
        "id": "nA9Y7ga8ng1Z"
      }
    },
    {
      "cell_type": "code",
      "source": [
        "# Dataset Columns\n",
        "ps_data.columns"
      ],
      "metadata": {
        "id": "j7xfkqrt5Ag5"
      },
      "execution_count": null,
      "outputs": []
    },
    {
      "cell_type": "code",
      "source": [
        "# Dataset Describe\n",
        "ps_data.describe()"
      ],
      "metadata": {
        "id": "DnOaZdaE5Q5t"
      },
      "execution_count": null,
      "outputs": []
    },
    {
      "cell_type": "markdown",
      "source": [
        "### Variables Description"
      ],
      "metadata": {
        "id": "PBTbrJXOngz2"
      }
    },
    {
      "cell_type": "markdown",
      "source": [
        "play_store dataframe has 10841 rows and 13 columns. The 13 columns are identified as below:\n",
        "\n",
        "**1) App** - It tells us about the name of the application with a short\n",
        "description.\n",
        "\n",
        "**2) Category** - It gives the category to the app.\n",
        "\n",
        "**3) Rating** - It contains the average rating the respective app received from its users.\n",
        "\n",
        "**4) Reviews** - It tells us about the total number of users who have given a review for the application.\n",
        "\n",
        "**5) Size** - It tells us about the size being occupied the application on the mobile phone.\n",
        "\n",
        "**6) Installs** - It tells us about the total number of installs/downloads for an application.\n",
        "\n",
        "**7) Type** - IIt states whether an app is free to use or paid.\n",
        "\n",
        "**8) Price** - It gives the price payable to install the app. For free type apps, the price is zero.\n",
        "\n",
        "**9) Content Rating** - It states whether or not an app is suitable for all age groups or not.\n",
        "\n",
        "**10) Genres** - It tells us about the various other categories to which an application can belong.\n",
        "\n",
        "**11) Last Updated** - It tells us about the when the application was updated.\n",
        "\n",
        "**12) Current Ver** - It tells us about the current version of the application.\n",
        "\n",
        "**13) Android Ver** - It tells us about the android version which can support the application on its platform."
      ],
      "metadata": {
        "id": "aJV4KIxSnxay"
      }
    },
    {
      "cell_type": "markdown",
      "source": [
        "## 3. ***Data Wrangling***"
      ],
      "metadata": {
        "id": "dauF4eBmngu3"
      }
    },
    {
      "cell_type": "markdown",
      "source": [
        "### Data Wrangling Code"
      ],
      "metadata": {
        "id": "bKJF3rekwFvQ"
      }
    },
    {
      "cell_type": "markdown",
      "source": [
        "Lets first deal with the columns which contains lesser number of NaN values. By going through the NaN values, we must come up with a way to replace them with non NaN values or we need to come up with a reason for having NaN.\n",
        "\n",
        "1). **Android Ver: There are a total of 3 NaN values in this column.**"
      ],
      "metadata": {
        "id": "9aI_knQTCUpL"
      }
    },
    {
      "cell_type": "code",
      "source": [
        "# The rows containing NaN values in the Android Ver column\n",
        "ps_data[ps_data[\"Android Ver\"].isnull()]"
      ],
      "metadata": {
        "id": "0JuqNkQ5CW3D"
      },
      "execution_count": null,
      "outputs": []
    },
    {
      "cell_type": "markdown",
      "source": [
        "Since the NaN values in the Android Ver column cannot be replaced by any particular value, and, since there are only 3 rows which contain NaN values in this column, which accounts to less than 0.03% of the total rows in the given dataset, it can be be dropped."
      ],
      "metadata": {
        "id": "Ggp2AOcWDFQd"
      }
    },
    {
      "cell_type": "code",
      "source": [
        "# dropping rows corresponding to the to the NaN values in the 'Android Ver' column.\n",
        "ps_data=ps_data[ps_data['Android Ver'].notna()]\n",
        "# Shape of the updated dataframe\n",
        "ps_data.shape"
      ],
      "metadata": {
        "id": "H48rFgiDC7IN"
      },
      "execution_count": null,
      "outputs": []
    },
    {
      "cell_type": "markdown",
      "source": [
        "We were successfully able to handle the NaN values in theAndroid Vercolumn."
      ],
      "metadata": {
        "id": "R8xjDBGNDKwh"
      }
    },
    {
      "cell_type": "markdown",
      "source": [
        "**2). Current Ver: There are a total of 8 NaN values in this column.**"
      ],
      "metadata": {
        "id": "DdoC4QOpDPrM"
      }
    },
    {
      "cell_type": "code",
      "source": [
        "# The rows containing NaN values in the Current Ver column\n",
        "ps_data[ps_data[\"Current Ver\"].isnull()]"
      ],
      "metadata": {
        "id": "N-mmmyOuDd0w"
      },
      "execution_count": null,
      "outputs": []
    },
    {
      "cell_type": "markdown",
      "source": [
        "Since there are only 8 rows which contain NaN values in the Current Ver column, and it accounts to just around 0.07% of the total rows in the given dataset, and there is no particular value with which we can replace it, these rows can be dropped."
      ],
      "metadata": {
        "id": "wnRP98myDpYz"
      }
    },
    {
      "cell_type": "code",
      "source": [
        "# dropping rows corresponding to the values which contain NaN in the column 'Current Ver'.\n",
        "ps_data=ps_data[ps_data[\"Current Ver\"].notna()]\n",
        "# Shape of the updated dataframe\n",
        "ps_data.shape"
      ],
      "metadata": {
        "id": "pRGBvl2GDq4W"
      },
      "execution_count": null,
      "outputs": []
    },
    {
      "cell_type": "markdown",
      "source": [
        "**3). Type: There is only one NaN value in this column.**"
      ],
      "metadata": {
        "id": "taQFFeihEI7b"
      }
    },
    {
      "cell_type": "code",
      "source": [
        "# The row containing NaN values in the Type column\n",
        "ps_data[ps_data[\"Type\"].isnull()]"
      ],
      "metadata": {
        "id": "zpQ2QvDcEMq-"
      },
      "execution_count": null,
      "outputs": []
    },
    {
      "cell_type": "code",
      "source": [
        "# Finding the different values the 'Type' column takes\n",
        "ps_data[\"Type\"].value_counts()"
      ],
      "metadata": {
        "id": "h1Ybxcn9EXP9"
      },
      "execution_count": null,
      "outputs": []
    },
    {
      "cell_type": "markdown",
      "source": [
        "The Typecolumn contains only two entries, namely, Free and Paid. Also, if the app is of type-paid, the price of that app will be printed in the corresponding Price column, else, it will show as '0'. In this case, the price for the respective app is printed as '0', which means the app is of type-free. Hence we can replace this NaN value with Free."
      ],
      "metadata": {
        "id": "p1lOcnHgEplF"
      }
    },
    {
      "cell_type": "code",
      "source": [
        "# Replacing the NaN value in 'Type' column corresponding to row index 9148 with 'Free'\n",
        "ps_data.loc[9148,'Type']='Free'"
      ],
      "metadata": {
        "id": "bVdzhQ4vErm9"
      },
      "execution_count": null,
      "outputs": []
    },
    {
      "cell_type": "code",
      "source": [
        "ps_data[ps_data[\"Type\"].isnull()]"
      ],
      "metadata": {
        "id": "-95KTjVJEy_r"
      },
      "execution_count": null,
      "outputs": []
    },
    {
      "cell_type": "markdown",
      "source": [
        "**4). Rating: This column contains 1470 NaN values.**"
      ],
      "metadata": {
        "id": "b3JmSQoXFN3P"
      }
    },
    {
      "cell_type": "code",
      "source": [
        "# The rows containing NaN values in the Rating column\n",
        "ps_data[ps_data['Rating'].isnull()]"
      ],
      "metadata": {
        "id": "oSMzujJyFUUQ"
      },
      "execution_count": null,
      "outputs": []
    },
    {
      "cell_type": "markdown",
      "source": [
        "Also, we know that the rating of any app in the play store will be in between 1 and 5. Lets check whether there are any ratings out of this range."
      ],
      "metadata": {
        "id": "sCCCbn54FZUs"
      }
    },
    {
      "cell_type": "code",
      "source": [
        "ps_data[(ps_data[\"Rating\"]<1) | (ps_data[\"Rating\"]>5)]"
      ],
      "metadata": {
        "id": "qq0kJkpKFeNS"
      },
      "execution_count": null,
      "outputs": []
    },
    {
      "cell_type": "markdown",
      "source": [
        "* The `Rating` column contains 1470 NaN values which accounts to apprximately 13.5% of the rows in the entire dataset. It is not practical to drop these rows because by doing so, we will loose a large amount of data, which may impact the final quality of the analysis.\n",
        "* The NaN values in this case can be imputed by the aggregate (mean or median) of the remaining values in the Rating column."
      ],
      "metadata": {
        "id": "KJwxoPoBF6gu"
      }
    },
    {
      "cell_type": "code",
      "source": [
        "# Finding mean and median in the Rating column excluding the NaN values.\n",
        "\n",
        "mean_rating = round(ps_data[~ps_data['Rating'].isnull()]['Rating'].mean(),4)\n",
        "\n",
        "median_rating = ps_data[~ps_data['Rating'].isnull()]['Rating'].median()\n",
        "\n",
        "[mean_rating , median_rating]"
      ],
      "metadata": {
        "id": "GRIa-I-AF8yE"
      },
      "execution_count": null,
      "outputs": []
    },
    {
      "cell_type": "markdown",
      "source": [
        "* The mean of the average ratings (excluding the NaN values) comes to be 4.2.\n",
        "\n",
        "* The median of the entries (excluding the NaN values) in the 'Rating' column comes to be 4.3. From this we can say that 50% of the apps have an average rating of above 4.3, and the rest below 4.3.\n",
        "\n",
        "* Hence we will impute the NaN values in the Rating column with its median."
      ],
      "metadata": {
        "id": "cRy1Y_jaGJzR"
      }
    },
    {
      "cell_type": "code",
      "source": [
        "# Replacing the NaN values in the 'Rating' colunm with its median value\n",
        "ps_data['Rating'].fillna(value=median_rating,inplace=True)"
      ],
      "metadata": {
        "id": "ddUPw0PAGU8T"
      },
      "execution_count": null,
      "outputs": []
    },
    {
      "cell_type": "markdown",
      "source": [
        "# **Handling duplicates values and Manipulating dataset:**\n",
        "### **`1).Handling the duplicates in the  `App `column`**"
      ],
      "metadata": {
        "id": "mMTRqFPXGmEH"
      }
    },
    {
      "cell_type": "code",
      "source": [
        "ps_data['App'].value_counts()"
      ],
      "metadata": {
        "id": "-lzVWJr1Gp_5"
      },
      "execution_count": null,
      "outputs": []
    },
    {
      "cell_type": "code",
      "source": [
        "# Inspecting the duplicates values.\n",
        "ps_data[ps_data['App']=='ROBLOX']"
      ],
      "metadata": {
        "id": "F_iBgtseG3fi"
      },
      "execution_count": null,
      "outputs": []
    },
    {
      "cell_type": "code",
      "source": [
        "# dropping duplicates from the 'App' column.\n",
        "ps_data.drop_duplicates(subset = 'App', inplace = True)\n",
        "ps_data.shape\n"
      ],
      "metadata": {
        "id": "5ju9i8R-G8l4"
      },
      "execution_count": null,
      "outputs": []
    },
    {
      "cell_type": "code",
      "source": [
        "# Checking whether the duplicates in the 'App' column are taken care of or not\n",
        "ps_data[ps_data['App']=='ROBLOX']"
      ],
      "metadata": {
        "id": "KTgDEIkDHTkC"
      },
      "execution_count": null,
      "outputs": []
    },
    {
      "cell_type": "markdown",
      "source": [
        "### **`2). Changing the datatype of the Last Updated column from string to datetime.`**"
      ],
      "metadata": {
        "id": "LljL0euyHbxQ"
      }
    },
    {
      "cell_type": "code",
      "source": [
        "# Pandas to_datetime() function applied to the values in the last updated column helps to convert string Date time into Python Date time object.\n",
        "ps_data[\"Last Updated\"] = pd.to_datetime(ps_data['Last Updated'])\n",
        "ps_data.head()"
      ],
      "metadata": {
        "id": "rqKZaFTlHeLl"
      },
      "execution_count": null,
      "outputs": []
    },
    {
      "cell_type": "markdown",
      "source": [
        "### **`3). Changing the datatype of the `Price `column from string to float`.**"
      ],
      "metadata": {
        "id": "QXNIAoGwHrGX"
      }
    },
    {
      "cell_type": "code",
      "source": [
        "ps_data['Price'].value_counts()"
      ],
      "metadata": {
        "id": "MJGe0vBFHs2J"
      },
      "execution_count": null,
      "outputs": []
    },
    {
      "cell_type": "markdown",
      "source": [
        "To convert this column from string to float, we must first drop the $ symbol from the all the values. Then we can assign float datatype to those values.\n",
        "\n",
        "Applying the drop_dollar function to convert the values in thePrice column from string datatype to float datatype."
      ],
      "metadata": {
        "id": "AZnYHd5oH55f"
      }
    },
    {
      "cell_type": "code",
      "source": [
        "# Creating a function drop-dollar which dropps the $ symbol if it is present and returns the output which is of float datatype.\n",
        "def convert_dollar(val):\n",
        "  '''\n",
        "  This funtion drops the $ symbol if present and returns the value with float datatype.\n",
        "  '''\n",
        "  if '$' in val:\n",
        "    return float(val[1:])\n",
        "  else:\n",
        "    return float(val)"
      ],
      "metadata": {
        "id": "9wmqxjjsH1KY"
      },
      "execution_count": null,
      "outputs": []
    },
    {
      "cell_type": "code",
      "source": [
        "# The drop_dollar funtion applied to the price column\n",
        "ps_data['Price']=ps_data['Price'].apply(lambda x: convert_dollar(x))\n",
        "ps_data.head()"
      ],
      "metadata": {
        "id": "Ge8f91goIBvV"
      },
      "execution_count": null,
      "outputs": []
    },
    {
      "cell_type": "code",
      "source": [
        "ps_data[ps_data['Price']!=0].head()"
      ],
      "metadata": {
        "id": "_u_TRUv0IOLN"
      },
      "execution_count": null,
      "outputs": []
    },
    {
      "cell_type": "markdown",
      "source": [
        "We have successfully converted the datatype of values in the Price column from string to float."
      ],
      "metadata": {
        "id": "EONmNGqNIe27"
      }
    },
    {
      "cell_type": "markdown",
      "source": [
        "### **`4). Converting the values in the `Installs`column from string datatype to integer datatype.`**"
      ],
      "metadata": {
        "id": "UJnkbc1aIjPG"
      }
    },
    {
      "cell_type": "code",
      "source": [
        "# Checking the contents of the 'Installs' column\n",
        "ps_data['Installs'].value_counts()"
      ],
      "metadata": {
        "id": "r4mKvoswIlJI"
      },
      "execution_count": null,
      "outputs": []
    },
    {
      "cell_type": "markdown",
      "source": [
        "To convert all the values in the Installs column from string datatype to integer datatype, we must first drop the '+' symbol from all the entries if present and then we can change its datatype.\n",
        "\n",
        "Applying the convert_plus function to convert the values in the Installs column from string datatype to float datatype."
      ],
      "metadata": {
        "id": "5x5XIp6cIr1v"
      }
    },
    {
      "cell_type": "code",
      "source": [
        "# Creating a function convert_plus which drops the '+' symbol if it is present and returns the output which is of integer datatype.\n",
        "\n",
        "def convert_plus(val):\n",
        "  '''\n",
        "  This function drops the + symbol if present and returns the value with int datatype.\n",
        "  '''\n",
        "  if '+' and ',' in val:\n",
        "    new = int(val[:-1].replace(',',''))\n",
        "    return new\n",
        "  elif '+' in val:\n",
        "    new1 = int(val[:-1])\n",
        "    return new1\n",
        "  else:\n",
        "    return int(val)"
      ],
      "metadata": {
        "id": "rGzmnG5NI3uB"
      },
      "execution_count": null,
      "outputs": []
    },
    {
      "cell_type": "code",
      "source": [
        "# The drop_plus funtion applied to the main dataframe\n",
        "\n",
        "ps_data['Installs'] = ps_data['Installs'].apply(lambda x: convert_plus(x))\n",
        "ps_data.head()"
      ],
      "metadata": {
        "id": "zXh39mTzI8UN"
      },
      "execution_count": null,
      "outputs": []
    },
    {
      "cell_type": "markdown",
      "source": [
        "The resultant values in the **Installs** column are of the integer datatype, and it represents the least number of times a particular app has been installed.\n",
        "\n",
        "\n",
        "\n",
        "\n",
        "\n",
        "* **Installs** = 0 indicates that that particular app has not been installed by anyone yet.\n",
        "* **Installs** = 1 indicates that the particular app has been installed by atleast\n",
        "one user.\n",
        "* **Installs** = 1000000 indicates that the particular app has been installed by atleast one million users. So on and so forth.\n",
        "* We have successfully converted the datatype of values in the Installs column from string to int."
      ],
      "metadata": {
        "id": "VTEKieYDJOO_"
      }
    },
    {
      "cell_type": "markdown",
      "source": [
        "### **`5). Converting the values in the `Size` column to a same unit of measure(MB).`**"
      ],
      "metadata": {
        "id": "ybVre6P9JkCY"
      }
    },
    {
      "cell_type": "code",
      "source": [
        "ps_data['Size'].value_counts()"
      ],
      "metadata": {
        "id": "UulapcGgJw9-"
      },
      "execution_count": null,
      "outputs": []
    },
    {
      "cell_type": "markdown",
      "source": [
        "We can see that the values in the Size column contains data with different units. 'M' stands for MB and 'k' stands for KB. To easily analyse this column, it is necessary to convert all the values to a single unit. In this case, we will convert all the units to MB.\n",
        "\n",
        "We know that 1MB = 1024KB, to convert KB to MB, we must divide all the values which are in KB by 1024."
      ],
      "metadata": {
        "id": "zBOGRvUKJlt1"
      }
    },
    {
      "cell_type": "code",
      "source": [
        "# Defining a function to convert all the entries in KB to MB and then converting them to float datatype.\n",
        "\n",
        "def convert_kb_to_mb(val):\n",
        "  '''\n",
        "  This function converts all the valid entries in KB to MB and returns the result in float datatype.\n",
        "  '''\n",
        "  try:\n",
        "    if 'M' in val:\n",
        "      return float(val[:-1])\n",
        "    elif 'k' in val:\n",
        "      return round(float(val[:-1])/1024, 4)\n",
        "    else:\n",
        "      return val\n",
        "  except:\n",
        "    return val"
      ],
      "metadata": {
        "id": "0XIQtXClJ73t"
      },
      "execution_count": null,
      "outputs": []
    },
    {
      "cell_type": "markdown",
      "source": [
        "Applying the kb_to_mb function to convert the values in the Size column to a single unit of measure (MB) and the datatype from string to float."
      ],
      "metadata": {
        "id": "rNOCBWG8J9aH"
      }
    },
    {
      "cell_type": "code",
      "source": [
        "# The kb_to_mb funtion applied to the size column\n",
        "\n",
        "ps_data['Size'] = ps_data['Size'].apply(lambda x: convert_kb_to_mb(x))\n",
        "ps_data.head()"
      ],
      "metadata": {
        "id": "OsTjlVeWKBHX"
      },
      "execution_count": null,
      "outputs": []
    },
    {
      "cell_type": "code",
      "source": [
        "ps_data['Size'] = ps_data['Size'].apply(lambda x: str(x).replace('Varies with device', 'NaN') if 'Varies with device' in str(x) else x)\n",
        "ps_data['Size'] = ps_data['Size'].apply(lambda x: float(x))"
      ],
      "metadata": {
        "id": "XPX2X5oGKbQp"
      },
      "execution_count": null,
      "outputs": []
    },
    {
      "cell_type": "markdown",
      "source": [
        "* we see that a vast majority of the entries in this column are of the value **Varies with device**, replacing this with any central tendency value (mean or median) may give incorrect visualizations and results. Hence these values are left as it is.\n",
        "\n",
        "* We have successfully converted all the valid entries in the **Size** column to a single unit of measure (MB) and the datatype from string to float."
      ],
      "metadata": {
        "id": "_OU1pkKlK5EO"
      }
    },
    {
      "cell_type": "markdown",
      "source": [
        "### **`6). Converting the datatype of values in the `Reviews` column from string to int.`**"
      ],
      "metadata": {
        "id": "tvJ1X_bALBGl"
      }
    },
    {
      "cell_type": "code",
      "source": [
        "# Converting the datatype of the values in the reviews column from string to int\n",
        "ps_data['Reviews'] = ps_data['Reviews'].astype(int)\n",
        "ps_data.head()"
      ],
      "metadata": {
        "id": "1AfyeaaCLCWB"
      },
      "execution_count": null,
      "outputs": []
    },
    {
      "cell_type": "code",
      "source": [
        "ps_data.describe()"
      ],
      "metadata": {
        "id": "EWbCnll0LMxW"
      },
      "execution_count": null,
      "outputs": []
    },
    {
      "cell_type": "markdown",
      "source": [
        "We have successfully converted the datatype of the values in the Reviews column from string to int.\n",
        "\n",
        "Now that we have handled the errors and NaN values in the playstoredata.csv file, lets do the same for the userreviews.csv file."
      ],
      "metadata": {
        "id": "EKQ2I0NrLb3q"
      }
    },
    {
      "cell_type": "markdown",
      "source": [
        "# **Exploring User_review dataframe**"
      ],
      "metadata": {
        "id": "_1he_FNYFaO5"
      }
    },
    {
      "cell_type": "code",
      "source": [
        "# Load User review Dataset\n",
        "ur_data_path='/content/drive/MyDrive/datasets/Play Store App Review Analysis/User Reviews.csv'\n",
        "ur_data=pd.read_csv(ur_data_path)"
      ],
      "metadata": {
        "id": "kg0ViVfUMU-Q"
      },
      "execution_count": null,
      "outputs": []
    },
    {
      "cell_type": "code",
      "source": [
        "ur_data"
      ],
      "metadata": {
        "id": "ktyq1n7IDu24"
      },
      "execution_count": null,
      "outputs": []
    },
    {
      "cell_type": "code",
      "source": [
        "ur_data.shape"
      ],
      "metadata": {
        "id": "9klu1Zv4D60Z"
      },
      "execution_count": null,
      "outputs": []
    },
    {
      "cell_type": "code",
      "source": [
        "ur_data.columns"
      ],
      "metadata": {
        "id": "JNdbinooFkb2"
      },
      "execution_count": null,
      "outputs": []
    },
    {
      "cell_type": "markdown",
      "source": [
        "**Let us first define what information the columns contain based on our inspection.**\n",
        "\n",
        "user_reviews dataframe has 64295 rows and 5 columns. The 5 columns are identified as follows:\n",
        "\n",
        "* **App:** Contains the name of the app with a short description .\n",
        "* **Translated_Review:** It contains the English translation of the review dropped by the user of the app.\n",
        "* **Sentiment:** It gives the attitude/emotion of the writer. It can be ‘Positive’, ‘Negative’, or ‘Neutral’.\n",
        "* **Sentiment_Polarity:** It gives the polarity of the review. Its range is [-1,1], where 1 means ‘Positive statement’ and -1 means a ‘Negative statement’.\n",
        "* **Sentiment_Subjectivity:** This value gives how close a reviewers opinion is to the opinion of the general public. Its range is [0,1]. Higher the subjectivity, closer is the reviewers opinion to the opinion of the general public, and lower subjectivity indicates the review is more of a factual information."
      ],
      "metadata": {
        "id": "J7NZcCC3FpFl"
      }
    },
    {
      "cell_type": "code",
      "source": [
        "ur_data.info()"
      ],
      "metadata": {
        "id": "TaQ9leiTD_CP"
      },
      "execution_count": null,
      "outputs": []
    },
    {
      "cell_type": "code",
      "source": [
        "ur_data.describe()"
      ],
      "metadata": {
        "id": "2BhRh8_MEGcQ"
      },
      "execution_count": null,
      "outputs": []
    },
    {
      "cell_type": "code",
      "source": [
        "# Creating a function which gives us a DataFrame containing (data type ,null values ,non null values ,unique values and % of null values)\n",
        "def ur_data_info():\n",
        "  temp=pd.DataFrame(index=ur_data.columns)\n",
        "  temp['Datatype']=ur_data.dtypes\n",
        "  temp['null values']=ur_data.isnull().sum()\n",
        "  temp['non null values']=ur_data.count()\n",
        "  temp['unique values']=ur_data.nunique()\n",
        "  temp['% of null values']=ur_data.isnull().mean()\n",
        "  return temp\n",
        "\n",
        "ur_data_info()"
      ],
      "metadata": {
        "id": "oc62E7ZgEK7_"
      },
      "execution_count": null,
      "outputs": []
    },
    {
      "cell_type": "markdown",
      "source": [
        "**Findings**\n",
        "\n",
        "The number of null values are:\n",
        "* **Translated_Review** has 26868 null values which contributes **41.79%** of the data.\n",
        "* **Sentiment** has 26863 null values which contributes **41.78%** of the data.\n",
        "* **Sentiment_Polarity**  has 26863 null values which contributes **41.78%** of the data.\n",
        "* **Sentiment_Subjectivity** has 26863 null values which contributes **41.78%** of the data."
      ],
      "metadata": {
        "id": "dFpkAO2wGBVx"
      }
    },
    {
      "cell_type": "markdown",
      "source": [
        "## **Handling the error and NaN values in the User reviews**"
      ],
      "metadata": {
        "id": "Xi5SMBZHGHXu"
      }
    },
    {
      "cell_type": "code",
      "source": [
        "# Finding the total no of NaN values in each column.\n",
        "ur_data.isnull().sum()"
      ],
      "metadata": {
        "id": "AN0Jmi9QGJAS"
      },
      "execution_count": null,
      "outputs": []
    },
    {
      "cell_type": "markdown",
      "source": [
        "There are a lot of NaN values. We need to analyse these values and see how we can handle them."
      ],
      "metadata": {
        "id": "J0o4vSYiGWmf"
      }
    },
    {
      "cell_type": "code",
      "source": [
        "# checking the NaN values in the translated rview column\n",
        "ur_data[ur_data['Translated_Review'].isnull()]"
      ],
      "metadata": {
        "id": "tiV3Ob77GX2c"
      },
      "execution_count": null,
      "outputs": []
    },
    {
      "cell_type": "markdown",
      "source": [
        "There are a total of 26868 rows containing NaN values in the Translated_Review column.\n",
        "\n",
        "We can say that the apps which do not have a review (NaN value insted) tend to have NaN values in the columns `Sentiment, Sentiment_Polarity, and Sentiment_Subjectivity` in the majority of the cases.\n",
        "\n",
        "**Lets check if there are any exceptions.**"
      ],
      "metadata": {
        "id": "3r5rGL1cGsYO"
      }
    },
    {
      "cell_type": "code",
      "source": [
        "# The rows corresponding to the NaN values in the translated_review column, where the rest of the columns are non null.\n",
        "ur_data[ur_data['Translated_Review'].isnull() & ur_data['Sentiment'].notna()]"
      ],
      "metadata": {
        "id": "dm0pzZW7G9I5"
      },
      "execution_count": null,
      "outputs": []
    },
    {
      "cell_type": "markdown",
      "source": [
        "In the few exceptional cases where the values of remaining columns are non null for null values in the translated_Review column, there seems to be errors. This is because the Sentiment, sentiment ploarity and sentiment subjectivity of the review can be determined if and only if there is a corresponding review.\n",
        "\n",
        "Hence these values are wrong and can be deleted altogather."
      ],
      "metadata": {
        "id": "F0ENTL1fHIgF"
      }
    },
    {
      "cell_type": "code",
      "source": [
        "# Deleting the rows containing NaN values\n",
        "ur_data = ur_data.dropna()"
      ],
      "metadata": {
        "id": "NWe3W_E8HQds"
      },
      "execution_count": null,
      "outputs": []
    },
    {
      "cell_type": "code",
      "source": [
        "# New shape of user review dataframe\n",
        "ur_data.shape"
      ],
      "metadata": {
        "id": "RG5DmaZrHX9-"
      },
      "execution_count": null,
      "outputs": []
    },
    {
      "cell_type": "markdown",
      "source": [
        "There are a total of 37427 rows in the updated df.\n",
        "\n",
        "Hence we have taken care of all the NaN values in the df.\n",
        "\n",
        "Lets inspect the updated df"
      ],
      "metadata": {
        "id": "Hc1B7U84HxKj"
      }
    },
    {
      "cell_type": "code",
      "source": [
        "# Inspecting the sentiment column\n",
        "ur_data['Sentiment'].value_counts()"
      ],
      "metadata": {
        "id": "xDgSNXyDHzVk"
      },
      "execution_count": null,
      "outputs": []
    },
    {
      "cell_type": "markdown",
      "source": [
        "The values in the `Sentiment_Polarity and Sentiment_Subjectivity`looks correct.\n",
        "\n",
        "On the given datasets, we successfully developed a data pipeline. We can now examine this data flow and create user-friendly visuals. It is easy to compare different measures using the visualizations, and thus to draw implications from them."
      ],
      "metadata": {
        "id": "P1i9a1D1IBHP"
      }
    },
    {
      "cell_type": "markdown",
      "source": [
        "## ***4. Data Vizualization, Storytelling & Experimenting with charts : Understand the relationships between variables***"
      ],
      "metadata": {
        "id": "GF8Ens_Soomf"
      }
    },
    {
      "cell_type": "markdown",
      "source": [
        "#### Chart - 1"
      ],
      "metadata": {
        "id": "0wOQAZs5pc--"
      }
    },
    {
      "cell_type": "markdown",
      "source": [
        "# **`1). What is the ratio of number of Paid apps and Free apps?`**"
      ],
      "metadata": {
        "id": "S6ZvXhkvT0lO"
      }
    },
    {
      "cell_type": "code",
      "source": [
        "# Chart - 1 visualization code\n",
        "type_data=ps_data['Type'].value_counts()\n",
        "lables = ['Free' , 'Paid']\n",
        "explode=[0.0,0.2]\n",
        "plt.figure(figsize=(8,8))\n",
        "plt.pie(type_data, labels=lables , explode=explode , autopct='%.2f%%' , textprops={'fontsize':15})\n",
        "plt.title('Distribution of Paid and Free apps',size=20,loc='center')\n",
        "plt.legend()\n",
        "plt.show()"
      ],
      "metadata": {
        "id": "7v_ESjsspbW7"
      },
      "execution_count": null,
      "outputs": []
    },
    {
      "cell_type": "markdown",
      "source": [
        "##### 1. Why did you pick the specific chart?"
      ],
      "metadata": {
        "id": "K5QZ13OEpz2H"
      }
    },
    {
      "cell_type": "markdown",
      "source": [
        "Pie chart gives us the clear picture of percentage of free and paid apps that are precent in the playstore data"
      ],
      "metadata": {
        "id": "XESiWehPqBRc"
      }
    },
    {
      "cell_type": "markdown",
      "source": [
        "##### 2. What is/are the insight(s) found from the chart?"
      ],
      "metadata": {
        "id": "lQ7QKXXCp7Bj"
      }
    },
    {
      "cell_type": "markdown",
      "source": [
        "**Findings:**\n",
        "\n",
        "From the above graph we can see that 92% of apps in google play store are free and 8%are paid."
      ],
      "metadata": {
        "id": "C_j1G7yiqdRP"
      }
    },
    {
      "cell_type": "markdown",
      "source": [
        "##### 3. Will the gained insights help creating a positive business impact?\n",
        "Are there any insights that lead to negative growth? Justify with specific reason."
      ],
      "metadata": {
        "id": "448CDAPjqfQr"
      }
    },
    {
      "cell_type": "markdown",
      "source": [
        "Answer Here"
      ],
      "metadata": {
        "id": "3cspy4FjqxJW"
      }
    },
    {
      "cell_type": "markdown",
      "source": [
        "#### Chart - 2"
      ],
      "metadata": {
        "id": "KSlN3yHqYklG"
      }
    },
    {
      "cell_type": "markdown",
      "source": [
        "## **`2).  Which category of Apps from the Content Rating column are found more on playstore ?`**"
      ],
      "metadata": {
        "id": "0USUftpRTqw4"
      }
    },
    {
      "cell_type": "code",
      "source": [
        "# Chart - 2 visualization code\n",
        "content_rating=ps_data['Content Rating'].value_counts()\n",
        "plt.figure(figsize=(8,8))\n",
        "labels=['Everyone', 'Teen', 'Everyone 10+', 'Mature 17+','Adults only 18+', 'Unrated']\n",
        "explode=(0,0.1,0.1,0.1,0.0,1.3)\n",
        "plt.pie(content_rating , labels = labels,explode=explode , autopct='%0.2f%%' , textprops={'fontsize':12} )\n",
        "plt.title('Content Rating',size=20,loc='center')\n",
        "plt.legend()\n",
        "plt.show()"
      ],
      "metadata": {
        "id": "R4YgtaqtYklH"
      },
      "execution_count": null,
      "outputs": []
    },
    {
      "cell_type": "markdown",
      "source": [
        "##### 1. Why did you pick the specific chart?"
      ],
      "metadata": {
        "id": "t6dVpIINYklI"
      }
    },
    {
      "cell_type": "markdown",
      "source": [
        "Answer Here."
      ],
      "metadata": {
        "id": "5aaW0BYyYklI"
      }
    },
    {
      "cell_type": "markdown",
      "source": [
        "##### 2. What is/are the insight(s) found from the chart?"
      ],
      "metadata": {
        "id": "ijmpgYnKYklI"
      }
    },
    {
      "cell_type": "markdown",
      "source": [
        "A majority of the apps (82%) in the play store are can be used by everyone.The remaining apps have various age restrictions to use it."
      ],
      "metadata": {
        "id": "PSx9atu2YklI"
      }
    },
    {
      "cell_type": "markdown",
      "source": [
        "##### 3. Will the gained insights help creating a positive business impact?\n",
        "Are there any insights that lead to negative growth? Justify with specific reason."
      ],
      "metadata": {
        "id": "-JiQyfWJYklI"
      }
    },
    {
      "cell_type": "markdown",
      "source": [
        "Answer Here"
      ],
      "metadata": {
        "id": "BcBbebzrYklV"
      }
    },
    {
      "cell_type": "markdown",
      "source": [
        "#### Chart - 3"
      ],
      "metadata": {
        "id": "EM7whBJCYoAo"
      }
    },
    {
      "cell_type": "markdown",
      "source": [
        "## **`3).Top categories on Google Playstore?`**"
      ],
      "metadata": {
        "id": "EWdV7obqUzvV"
      }
    },
    {
      "cell_type": "code",
      "source": [
        "category_wise=ps_data.groupby('Category')['App'].count().sort_values(ascending=False)"
      ],
      "metadata": {
        "id": "Fn1ZuJVzUXDX"
      },
      "execution_count": null,
      "outputs": []
    },
    {
      "cell_type": "code",
      "source": [
        "# Chart - 3 visualization code\n",
        "plt.figure(figsize=(20,10))\n",
        "sns.barplot(x=category_wise.index , y=category_wise , palette=\"tab10\")\n",
        "plt.title('Top Category On Play Store' , fontsize=20)\n",
        "plt.xlabel('Number of Apps', size=15)\n",
        "plt.ylabel('App Categories', size=15)\n",
        "plt.xticks(rotation=45 , horizontalalignment='right')\n",
        "plt.show()"
      ],
      "metadata": {
        "id": "t6GMdE67YoAp"
      },
      "execution_count": null,
      "outputs": []
    },
    {
      "cell_type": "markdown",
      "source": [
        "##### 1. Why did you pick the specific chart?"
      ],
      "metadata": {
        "id": "fge-S5ZAYoAp"
      }
    },
    {
      "cell_type": "markdown",
      "source": [
        "Answer Here."
      ],
      "metadata": {
        "id": "5dBItgRVYoAp"
      }
    },
    {
      "cell_type": "markdown",
      "source": [
        "##### 2. What is/are the insight(s) found from the chart?"
      ],
      "metadata": {
        "id": "85gYPyotYoAp"
      }
    },
    {
      "cell_type": "markdown",
      "source": [
        "**Findings:**\n",
        "\n",
        "So there are all total 33 categories in the dataset From the above output we can come to a conclusion that in playstore most of the apps are under` FAMILY & GAME` category and least are of `COSMIC & BEAUTY` Category."
      ],
      "metadata": {
        "id": "4jstXR6OYoAp"
      }
    },
    {
      "cell_type": "markdown",
      "source": [
        "##### 3. Will the gained insights help creating a positive business impact?\n",
        "Are there any insights that lead to negative growth? Justify with specific reason."
      ],
      "metadata": {
        "id": "RoGjAbkUYoAp"
      }
    },
    {
      "cell_type": "markdown",
      "source": [
        "Answer Here"
      ],
      "metadata": {
        "id": "zfJ8IqMcYoAp"
      }
    },
    {
      "cell_type": "markdown",
      "source": [
        "#### Chart - 4"
      ],
      "metadata": {
        "id": "4Of9eVA-YrdM"
      }
    },
    {
      "cell_type": "markdown",
      "source": [
        "### **`4). Which category App's have most number of installs?`**"
      ],
      "metadata": {
        "id": "KM-YjeADVCRp"
      }
    },
    {
      "cell_type": "code",
      "source": [
        "# Which category App's have most number of installs?\n",
        "\n",
        "category_wise_install = ps_data.groupby('Category')['Installs'].sum().sort_values()"
      ],
      "metadata": {
        "id": "aqfnms5kVLHr"
      },
      "execution_count": null,
      "outputs": []
    },
    {
      "cell_type": "code",
      "source": [
        "# Chart - 4 visualization code\n",
        "category_wise_install.plot.barh(figsize=(15,10), color = 'm', )\n",
        "plt.xlabel('Total app Installs', fontsize = 15)\n",
        "plt.ylabel('App Categories', fontsize = 15)\n",
        "plt.xticks()\n",
        "plt.title('Total app installs in each category', fontsize = 20)\n",
        "plt.show()"
      ],
      "metadata": {
        "id": "irlUoxc8YrdO"
      },
      "execution_count": null,
      "outputs": []
    },
    {
      "cell_type": "markdown",
      "source": [
        "##### 1. Why did you pick the specific chart?"
      ],
      "metadata": {
        "id": "iky9q4vBYrdO"
      }
    },
    {
      "cell_type": "markdown",
      "source": [
        "Answer Here."
      ],
      "metadata": {
        "id": "aJRCwT6DYrdO"
      }
    },
    {
      "cell_type": "markdown",
      "source": [
        "##### 2. What is/are the insight(s) found from the chart?"
      ],
      "metadata": {
        "id": "F6T5p64dYrdO"
      }
    },
    {
      "cell_type": "markdown",
      "source": [
        "**Findings:**\n",
        "\n",
        "This tells us the category of apps that has the maximum number of installs. The `Game,` `Communication and Tools` categories has the highest number of installs compared to other categories of apps."
      ],
      "metadata": {
        "id": "Xx8WAJvtYrdO"
      }
    },
    {
      "cell_type": "markdown",
      "source": [
        "##### 3. Will the gained insights help creating a positive business impact?\n",
        "Are there any insights that lead to negative growth? Justify with specific reason."
      ],
      "metadata": {
        "id": "y-Ehk30pYrdP"
      }
    },
    {
      "cell_type": "markdown",
      "source": [
        "Answer Here"
      ],
      "metadata": {
        "id": "jLNxxz7MYrdP"
      }
    },
    {
      "cell_type": "markdown",
      "source": [
        "#### Chart - 5"
      ],
      "metadata": {
        "id": "bamQiAODYuh1"
      }
    },
    {
      "cell_type": "markdown",
      "source": [
        "### **`5). Average rating of the apps`**"
      ],
      "metadata": {
        "id": "g64KeAg0VsI7"
      }
    },
    {
      "cell_type": "code",
      "source": [
        "# Chart - 5 visualization code\n",
        "# Average app ratings\n",
        "ps_data['Rating'].value_counts().plot.bar(figsize=(20,8),color='c')\n",
        "plt.title('Average rating of Apps in Play Store',fontsize=20)\n",
        "plt.xlabel('Average Rating',fontsize=15)\n",
        "plt.ylabel('Number Of Apps',fontsize=15)\n",
        "plt.show()"
      ],
      "metadata": {
        "id": "TIJwrbroYuh3"
      },
      "execution_count": null,
      "outputs": []
    },
    {
      "cell_type": "markdown",
      "source": [
        "We can represent the ratings in a better way if we group the ratings between certain intervals. Here, we can group the rating as follows:\n",
        "\n",
        "* 4-5: Top rated\n",
        "* 3-4: Above average\n",
        "* 2-3: Average\n",
        "* 1-2: Below average"
      ],
      "metadata": {
        "id": "3ImGUWbGV8vh"
      }
    },
    {
      "cell_type": "markdown",
      "source": [
        "**Lets create a new column `Rating group` in the main dataframe and apply these filters.**"
      ],
      "metadata": {
        "id": "LPtpe9WqWZcV"
      }
    },
    {
      "cell_type": "code",
      "source": [
        "def Rating_group(val):\n",
        "  if val >= 4:\n",
        "    return 'Top rated'\n",
        "  elif val<4 and val>=3:\n",
        "    return 'Above average'\n",
        "  elif val<3 and val>=2:\n",
        "    return 'Average'\n",
        "  else:\n",
        "    return 'Below average'"
      ],
      "metadata": {
        "id": "pwHId8VuWCfq"
      },
      "execution_count": null,
      "outputs": []
    },
    {
      "cell_type": "code",
      "source": [
        "ps_data['grouped rating'] = ps_data['Rating'].apply(lambda x : Rating_group(x))"
      ],
      "metadata": {
        "id": "ukMAh_ZkWF0X"
      },
      "execution_count": null,
      "outputs": []
    },
    {
      "cell_type": "code",
      "source": [
        "ps_data['grouped rating'].value_counts().plot.bar(figsize=(6,4),color='orange')\n",
        "plt.title('Rating of Apps in Play Store',fontsize=15)\n",
        "plt.xlabel('Rating',fontsize=12)\n",
        "plt.ylabel('Number Of Apps',fontsize=12)\n",
        "plt.xticks(rotation=0)\n",
        "plt.show()"
      ],
      "metadata": {
        "id": "uWd0HLNfWJVP"
      },
      "execution_count": null,
      "outputs": []
    },
    {
      "cell_type": "markdown",
      "source": [
        "##### 1. Why did you pick the specific chart?"
      ],
      "metadata": {
        "id": "QHF8YVU7Yuh3"
      }
    },
    {
      "cell_type": "markdown",
      "source": [
        "Answer Here."
      ],
      "metadata": {
        "id": "dcxuIMRPYuh3"
      }
    },
    {
      "cell_type": "markdown",
      "source": [
        "##### 2. What is/are the insight(s) found from the chart?"
      ],
      "metadata": {
        "id": "GwzvFGzlYuh3"
      }
    },
    {
      "cell_type": "markdown",
      "source": [
        "Answer Here"
      ],
      "metadata": {
        "id": "uyqkiB8YYuh3"
      }
    },
    {
      "cell_type": "markdown",
      "source": [
        "##### 3. Will the gained insights help creating a positive business impact?\n",
        "Are there any insights that lead to negative growth? Justify with specific reason."
      ],
      "metadata": {
        "id": "qYpmQ266Yuh3"
      }
    },
    {
      "cell_type": "markdown",
      "source": [
        "Answer Here"
      ],
      "metadata": {
        "id": "_WtzZ_hCYuh4"
      }
    },
    {
      "cell_type": "markdown",
      "source": [
        "#### Chart - 6"
      ],
      "metadata": {
        "id": "OH-pJp9IphqM"
      }
    },
    {
      "cell_type": "markdown",
      "source": [
        "### **`6). What are the Top 10 installed apps in any category?`**"
      ],
      "metadata": {
        "id": "suiF51kUWh7R"
      }
    },
    {
      "cell_type": "code",
      "source": [
        "# Chart - 6 visualization code\n",
        "def top10install(str):\n",
        "  str=str.upper()\n",
        "  top10=ps_data[ps_data['Category']==str]\n",
        "  top10apps=top10.sort_values(by='Installs',ascending=False).head(10)\n",
        "  plt.figure(figsize=(15,8))\n",
        "  sns.barplot(x = top10apps.App, y = top10apps.Installs, palette= \"icefire\")\n",
        "  plt.title('Top 10 Installed Apps',fontsize=20)\n",
        "  plt.ylabel('Number of Installs',fontsize=15)\n",
        "  plt.xlabel('Apps',fontsize=15)\n",
        "  plt.xticks(rotation=45)"
      ],
      "metadata": {
        "id": "kuRf4wtuphqN"
      },
      "execution_count": null,
      "outputs": []
    },
    {
      "cell_type": "code",
      "source": [
        "top10install('game')"
      ],
      "metadata": {
        "id": "lWXF3sUPWp3V"
      },
      "execution_count": null,
      "outputs": []
    },
    {
      "cell_type": "markdown",
      "source": [
        "##### 1. Why did you pick the specific chart?"
      ],
      "metadata": {
        "id": "bbFf2-_FphqN"
      }
    },
    {
      "cell_type": "markdown",
      "source": [
        "Answer Here."
      ],
      "metadata": {
        "id": "loh7H2nzphqN"
      }
    },
    {
      "cell_type": "markdown",
      "source": [
        "##### 2. What is/are the insight(s) found from the chart?"
      ],
      "metadata": {
        "id": "_ouA3fa0phqN"
      }
    },
    {
      "cell_type": "markdown",
      "source": [
        "From the above graph we can see that in the **`Game category Subway Surfers,Candy Crush Saga, Temple Run 2`** has the highest installs. In the same way we by passing different category names to the function, we can get the top 10 installed apps."
      ],
      "metadata": {
        "id": "VECbqPI7phqN"
      }
    },
    {
      "cell_type": "markdown",
      "source": [
        "##### 3. Will the gained insights help creating a positive business impact?\n",
        "Are there any insights that lead to negative growth? Justify with specific reason."
      ],
      "metadata": {
        "id": "Seke61FWphqN"
      }
    },
    {
      "cell_type": "markdown",
      "source": [
        "Answer Here"
      ],
      "metadata": {
        "id": "DW4_bGpfphqN"
      }
    },
    {
      "cell_type": "markdown",
      "source": [
        "#### Chart - 7"
      ],
      "metadata": {
        "id": "PIIx-8_IphqN"
      }
    },
    {
      "cell_type": "markdown",
      "source": [
        "### **`7). Top apps that are of free type.`**"
      ],
      "metadata": {
        "id": "vkRZedDfXJFX"
      }
    },
    {
      "cell_type": "code",
      "source": [
        "# Creating a new data frame cinsisting of only Free app type\n",
        "free_df = ps_data[ps_data['Type'] == 'Free']"
      ],
      "metadata": {
        "id": "Onag4cIpXLxc"
      },
      "execution_count": null,
      "outputs": []
    },
    {
      "cell_type": "code",
      "source": [
        "# Getting the top 20 free app that has maximum installs\n",
        "top_20_free = free_df[free_df['Installs']==free_df['Installs'].max()].head(20)"
      ],
      "metadata": {
        "id": "uqrgLZ7SXW6-"
      },
      "execution_count": null,
      "outputs": []
    },
    {
      "cell_type": "code",
      "source": [
        "# Chart - 7 visualization code\n",
        "top_20_free.Category.value_counts().plot.bar(figsize=(20,6), color= ('red','green'))\n",
        "plt.title('Categories in which the top 20 free apps belong',fontsize=15)\n",
        "plt.xlabel('Category',fontsize=12)\n",
        "plt.ylabel('Number Of Apps',fontsize=12)\n",
        "plt.xticks(rotation=45)\n",
        "plt.show()"
      ],
      "metadata": {
        "id": "lqAIGUfyphqO"
      },
      "execution_count": null,
      "outputs": []
    },
    {
      "cell_type": "markdown",
      "source": [
        "##### 1. Why did you pick the specific chart?"
      ],
      "metadata": {
        "id": "t27r6nlMphqO"
      }
    },
    {
      "cell_type": "markdown",
      "source": [
        "Answer Here."
      ],
      "metadata": {
        "id": "iv6ro40sphqO"
      }
    },
    {
      "cell_type": "markdown",
      "source": [
        "##### 2. What is/are the insight(s) found from the chart?"
      ],
      "metadata": {
        "id": "r2jJGEOYphqO"
      }
    },
    {
      "cell_type": "markdown",
      "source": [
        "Answer Here"
      ],
      "metadata": {
        "id": "Po6ZPi4hphqO"
      }
    },
    {
      "cell_type": "markdown",
      "source": [
        "##### 3. Will the gained insights help creating a positive business impact?\n",
        "Are there any insights that lead to negative growth? Justify with specific reason."
      ],
      "metadata": {
        "id": "b0JNsNcRphqO"
      }
    },
    {
      "cell_type": "markdown",
      "source": [
        "Answer Here"
      ],
      "metadata": {
        "id": "xvSq8iUTphqO"
      }
    },
    {
      "cell_type": "markdown",
      "source": [
        "#### Chart - 8"
      ],
      "metadata": {
        "id": "BZR9WyysphqO"
      }
    },
    {
      "cell_type": "markdown",
      "source": [
        "**Lets define a new column Revenue in paid_df which gives the revenue generated by the app through installs alone.**"
      ],
      "metadata": {
        "id": "iPG9x1V3YTpP"
      }
    },
    {
      "cell_type": "code",
      "source": [
        "# Creating a data frame consisting of ony paid apps from play store data\n",
        "paid_df= ps_data[ps_data['Type']=='Paid']\n",
        "\n",
        "#creating a new column in paid_df which gives the revenue generated by the app through installs\n",
        "paid_df['Revenue']= paid_df['Installs']*paid_df['Price']\n",
        "\n",
        "#gettinf the top 20 app that have generated the maximum revenue through installs\n",
        "paid_df[paid_df['Revenue']==paid_df['Revenue'].max()]\n",
        "top20paid_apps=paid_df.nlargest(20, 'Revenue', keep='first')"
      ],
      "metadata": {
        "id": "QSKqU8ntYVLG"
      },
      "execution_count": null,
      "outputs": []
    },
    {
      "cell_type": "code",
      "source": [
        "# Chart - 8 visualization code\n",
        "top20paid_apps['Category'].value_counts().plot.bar(figsize=(15,5),color=['orange'])\n",
        "plt.xlabel('Category',size=12)\n",
        "plt.ylabel('Number of apps',size=12)\n",
        "plt.title('Categories in which the top 10 paid apps belong', size=15)\n",
        "plt.xticks(rotation=0)\n",
        "plt.legend()\n",
        "plt.show()"
      ],
      "metadata": {
        "id": "TdPTWpAVphqO"
      },
      "execution_count": null,
      "outputs": []
    },
    {
      "cell_type": "markdown",
      "source": [
        "##### 1. Why did you pick the specific chart?"
      ],
      "metadata": {
        "id": "jj7wYXLtphqO"
      }
    },
    {
      "cell_type": "markdown",
      "source": [
        "Answer Here."
      ],
      "metadata": {
        "id": "Ob8u6rCTphqO"
      }
    },
    {
      "cell_type": "markdown",
      "source": [
        "##### 2. What is/are the insight(s) found from the chart?"
      ],
      "metadata": {
        "id": "eZrbJ2SmphqO"
      }
    },
    {
      "cell_type": "markdown",
      "source": [
        "Answer Here"
      ],
      "metadata": {
        "id": "mZtgC_hjphqO"
      }
    },
    {
      "cell_type": "markdown",
      "source": [
        "##### 3. Will the gained insights help creating a positive business impact?\n",
        "Are there any insights that lead to negative growth? Justify with specific reason."
      ],
      "metadata": {
        "id": "rFu4xreNphqO"
      }
    },
    {
      "cell_type": "markdown",
      "source": [
        "Answer Here"
      ],
      "metadata": {
        "id": "ey_0qi68phqO"
      }
    },
    {
      "cell_type": "markdown",
      "source": [
        "#### Chart - 9"
      ],
      "metadata": {
        "id": "YJ55k-q6phqO"
      }
    },
    {
      "cell_type": "markdown",
      "source": [
        "### **`9). Distribution of apps based on its size`**"
      ],
      "metadata": {
        "id": "FOfyUYmeaQfw"
      }
    },
    {
      "cell_type": "code",
      "source": [
        "# Getting the maximum and minimum size of apps in the play store data\n",
        "max_size=ps_data['Size'].max()\n",
        "min_size=ps_data['Size'].min()\n",
        "[max_size,min_size]"
      ],
      "metadata": {
        "id": "eDX1XLUladcI"
      },
      "execution_count": null,
      "outputs": []
    },
    {
      "cell_type": "markdown",
      "source": [
        "*   The size of an app in our database varies from 100 MB to 0.0083 MB.\n",
        "We can analyse the size of the apps if we can group them into certain intervals.\n",
        "\n",
        "*   Lets group the data in the size column as follows into intervals of 10 each:\n",
        "\n",
        "(< 1 MB, 1-10, 10-20, 20-30, ..., 90-100, 'Varies with device')"
      ],
      "metadata": {
        "id": "TJ5RdMUAbFuP"
      }
    },
    {
      "cell_type": "code",
      "source": [
        "# Function to group the apps based on its size in MB\n",
        "\n",
        "def size_apps(var):\n",
        "  '''\n",
        "  This function groups the size of an app\n",
        "  between ~0 to 100 MB into certain intervals.\n",
        "  '''\n",
        "  try:\n",
        "    if var < 1:\n",
        "      return 'Below 1'\n",
        "    elif var >= 1 and var <10:\n",
        "      return '1-10'\n",
        "    elif var >= 10 and var <20:\n",
        "      return '10-20'\n",
        "    elif var >= 20 and var <30:\n",
        "      return '20-30'\n",
        "    elif var >= 30 and var <40:\n",
        "      return '30-40'\n",
        "    elif var >= 40 and var <50:\n",
        "      return '40-50'\n",
        "    elif var >= 50 and var <60:\n",
        "      return '50-60'\n",
        "    elif var >= 60 and var <70:\n",
        "      return '60-70'\n",
        "    elif var >= 70 and var <80:\n",
        "      return '70-80'\n",
        "    elif var >= 80 and var <90:\n",
        "      return '80-90'\n",
        "    else:\n",
        "      return '90 and above'\n",
        "  except:\n",
        "    return var"
      ],
      "metadata": {
        "id": "xLrF7GVBbUdG"
      },
      "execution_count": null,
      "outputs": []
    },
    {
      "cell_type": "markdown",
      "source": [
        "**Lets apply the `size_group` function on the Size column and store the results in a new column named `Size` group.**"
      ],
      "metadata": {
        "id": "wsNtQkKDbcoU"
      }
    },
    {
      "cell_type": "code",
      "source": [
        "ps_data['size_group']=ps_data['Size'].apply(lambda x : size_apps(x))\n",
        "ps_data.head()"
      ],
      "metadata": {
        "id": "C8gwBNoLbdlW"
      },
      "execution_count": null,
      "outputs": []
    },
    {
      "cell_type": "code",
      "source": [
        "# Chart - 9 visualization code\n",
        "# no of apps belonging to each size group\n",
        "ps_data['size_group'].value_counts().plot.barh(figsize=(20,8),color='r').invert_yaxis()\n",
        "plt.title(\"Number of apps in different size groups\", size=20)\n",
        "plt.ylabel('App size in MB', size=15)\n",
        "plt.xlabel('No of apps', size=15)\n",
        "plt.legend()\n",
        "plt.show()"
      ],
      "metadata": {
        "id": "B2aS4O1ophqO"
      },
      "execution_count": null,
      "outputs": []
    },
    {
      "cell_type": "markdown",
      "source": [
        "##### 1. Why did you pick the specific chart?"
      ],
      "metadata": {
        "id": "gCFgpxoyphqP"
      }
    },
    {
      "cell_type": "markdown",
      "source": [
        "Answer Here."
      ],
      "metadata": {
        "id": "TVxDimi2phqP"
      }
    },
    {
      "cell_type": "markdown",
      "source": [
        "##### 2. What is/are the insight(s) found from the chart?"
      ],
      "metadata": {
        "id": "OVtJsKN_phqQ"
      }
    },
    {
      "cell_type": "markdown",
      "source": [
        "Answer Here"
      ],
      "metadata": {
        "id": "ngGi97qjphqQ"
      }
    },
    {
      "cell_type": "markdown",
      "source": [
        "##### 3. Will the gained insights help creating a positive business impact?\n",
        "Are there any insights that lead to negative growth? Justify with specific reason."
      ],
      "metadata": {
        "id": "lssrdh5qphqQ"
      }
    },
    {
      "cell_type": "markdown",
      "source": [
        "Answer Here"
      ],
      "metadata": {
        "id": "tBpY5ekJphqQ"
      }
    },
    {
      "cell_type": "markdown",
      "source": [
        "#### Chart - 10"
      ],
      "metadata": {
        "id": "U2RJ9gkRphqQ"
      }
    },
    {
      "cell_type": "code",
      "source": [
        "# Chart - 10 visualization code\n",
        "# average no of user reviews in each size group\n",
        "ps_data.groupby('size_group')['Reviews'].mean().sort_values().plot.barh(figsize=(20,8), color = 'green')\n",
        "plt.title(\"Average number of user reviews (in millions)\", size=20)\n",
        "plt.xlabel('Average no of user reviews', size=15)\n",
        "plt.ylabel('App size in MB', size=15)\n",
        "plt.legend()\n",
        "plt.show()"
      ],
      "metadata": {
        "id": "GM7a4YP4phqQ"
      },
      "execution_count": null,
      "outputs": []
    },
    {
      "cell_type": "markdown",
      "source": [
        "##### 1. Why did you pick the specific chart?"
      ],
      "metadata": {
        "id": "1M8mcRywphqQ"
      }
    },
    {
      "cell_type": "markdown",
      "source": [
        "Answer Here."
      ],
      "metadata": {
        "id": "8agQvks0phqQ"
      }
    },
    {
      "cell_type": "markdown",
      "source": [
        "##### 2. What is/are the insight(s) found from the chart?"
      ],
      "metadata": {
        "id": "tgIPom80phqQ"
      }
    },
    {
      "cell_type": "markdown",
      "source": [
        "Answer Here"
      ],
      "metadata": {
        "id": "Qp13pnNzphqQ"
      }
    },
    {
      "cell_type": "markdown",
      "source": [
        "##### 3. Will the gained insights help creating a positive business impact?\n",
        "Are there any insights that lead to negative growth? Justify with specific reason."
      ],
      "metadata": {
        "id": "JMzcOPDDphqR"
      }
    },
    {
      "cell_type": "markdown",
      "source": [
        "Answer Here"
      ],
      "metadata": {
        "id": "R4Ka1PC2phqR"
      }
    },
    {
      "cell_type": "markdown",
      "source": [
        "#### Chart - 11"
      ],
      "metadata": {
        "id": "x-EpHcCOp1ci"
      }
    },
    {
      "cell_type": "code",
      "source": [
        "# Chart - 11 visualization code\n",
        "# average number of app installs in each category\n",
        "\n",
        "ps_data.groupby('size_group')['Installs'].mean().sort_values(ascending= False).plot.barh(figsize=(20,8),color='sandybrown').invert_yaxis()\n",
        "plt.title(\"Average number of app installs (In 10 millions)\", size=20)\n",
        "plt.ylabel('App size in MB', size=15)\n",
        "plt.xlabel('Average no of app installs',  size=15)\n",
        "plt.legend()\n",
        "plt.show()"
      ],
      "metadata": {
        "id": "mAQTIvtqp1cj"
      },
      "execution_count": null,
      "outputs": []
    },
    {
      "cell_type": "markdown",
      "source": [
        "##### 1. Why did you pick the specific chart?"
      ],
      "metadata": {
        "id": "X_VqEhTip1ck"
      }
    },
    {
      "cell_type": "markdown",
      "source": [
        "Answer Here."
      ],
      "metadata": {
        "id": "-vsMzt_np1ck"
      }
    },
    {
      "cell_type": "markdown",
      "source": [
        "##### 2. What is/are the insight(s) found from the chart?"
      ],
      "metadata": {
        "id": "8zGJKyg5p1ck"
      }
    },
    {
      "cell_type": "markdown",
      "source": [
        "Answer Here"
      ],
      "metadata": {
        "id": "ZYdMsrqVp1ck"
      }
    },
    {
      "cell_type": "markdown",
      "source": [
        "##### 3. Will the gained insights help creating a positive business impact?\n",
        "Are there any insights that lead to negative growth? Justify with specific reason."
      ],
      "metadata": {
        "id": "PVzmfK_Ep1ck"
      }
    },
    {
      "cell_type": "markdown",
      "source": [
        "Answer Here"
      ],
      "metadata": {
        "id": "druuKYZpp1ck"
      }
    },
    {
      "cell_type": "markdown",
      "source": [
        "#### Chart - 12"
      ],
      "metadata": {
        "id": "n3dbpmDWp1ck"
      }
    },
    {
      "cell_type": "code",
      "source": [
        "# Chart - 12 visualization code\n",
        "counts=ur_data['Sentiment'].value_counts()\n",
        "labels = 'Positive Reviews', 'Negative Reviews','Neutral Reviews'\n",
        "plt.pie(counts, labels=labels, explode=[0.01, 0.05, 0.05], shadow=True, autopct=\"%.2f%%\")\n",
        "plt.title('Percentage of Review Sentiments', fontsize=15)\n",
        "plt.legend(bbox_to_anchor=(0.9, 0, 0.5, 1))\n",
        "plt.show()"
      ],
      "metadata": {
        "id": "bwevp1tKp1ck"
      },
      "execution_count": null,
      "outputs": []
    },
    {
      "cell_type": "markdown",
      "source": [
        "##### 1. Why did you pick the specific chart?"
      ],
      "metadata": {
        "id": "ylSl6qgtp1ck"
      }
    },
    {
      "cell_type": "markdown",
      "source": [
        "Answer Here."
      ],
      "metadata": {
        "id": "m2xqNkiQp1ck"
      }
    },
    {
      "cell_type": "markdown",
      "source": [
        "##### 2. What is/are the insight(s) found from the chart?"
      ],
      "metadata": {
        "id": "ZWILFDl5p1ck"
      }
    },
    {
      "cell_type": "markdown",
      "source": [
        "**Findings:**\n",
        "\n",
        "1. Positive reviews are **64.30%**\n",
        "2. Negative reviews are **22.80%**\n",
        "3. Neutral reviews are **12.90%**"
      ],
      "metadata": {
        "id": "x-lUsV2mp1ck"
      }
    },
    {
      "cell_type": "markdown",
      "source": [
        "##### 3. Will the gained insights help creating a positive business impact?\n",
        "Are there any insights that lead to negative growth? Justify with specific reason."
      ],
      "metadata": {
        "id": "M7G43BXep1ck"
      }
    },
    {
      "cell_type": "markdown",
      "source": [
        "Answer Here"
      ],
      "metadata": {
        "id": "5wwDJXsLp1cl"
      }
    },
    {
      "cell_type": "markdown",
      "source": [
        "#### Chart - 13"
      ],
      "metadata": {
        "id": "Ag9LCva-p1cl"
      }
    },
    {
      "cell_type": "code",
      "source": [
        "# positive reviews\n",
        "positive_ur_df=ur_data[ur_data['Sentiment']=='Positive']\n",
        "\n",
        "# negative reviews\n",
        "negative_ur_df=ur_data[ur_data['Sentiment']=='Negative']"
      ],
      "metadata": {
        "id": "VKQIZL1qgBH4"
      },
      "execution_count": null,
      "outputs": []
    },
    {
      "cell_type": "code",
      "source": [
        "# Getting the Top 10 apps with positive and negative reviews\n",
        "Top_10_positive = positive_ur_df.groupby('App')['Sentiment'].value_counts().nlargest(10)\n",
        "Top_10_negative = negative_ur_df.groupby('App')['Sentiment'].value_counts().nlargest(10)\n",
        "\n",
        "# creating a sublplot for top 10 app with positive reviews\n",
        "plt.subplot(2, 1, 1)\n",
        "Top_10_positive.plot.barh(Top_10_positive ,color='seagreen').invert_yaxis()\n",
        "plt.title(\"Top 10 positive review apps\")\n",
        "plt.xlabel('Total number of positive reviews')\n",
        "\n",
        "# creating a sublplot for top 10 app with negative reviews\n",
        "plt.subplot(2, 1, 2)\n",
        "Top_10_negative.plot.barh(Top_10_positive ,color='crimson').invert_yaxis()\n",
        "plt.title(\"Top 10 negative review apps\")\n",
        "plt.xlabel('Total number of negative reviews')\n",
        "\n",
        "\n",
        "plt.tight_layout()\n",
        "plt.show()"
      ],
      "metadata": {
        "id": "rqh3TXKsi9cv"
      },
      "execution_count": null,
      "outputs": []
    },
    {
      "cell_type": "markdown",
      "source": [
        "##### 1. Why did you pick the specific chart?"
      ],
      "metadata": {
        "id": "E6MkPsBcp1cl"
      }
    },
    {
      "cell_type": "markdown",
      "source": [
        "Answer Here."
      ],
      "metadata": {
        "id": "V22bRsFWp1cl"
      }
    },
    {
      "cell_type": "markdown",
      "source": [
        "##### 2. What is/are the insight(s) found from the chart?"
      ],
      "metadata": {
        "id": "2cELzS2fp1cl"
      }
    },
    {
      "cell_type": "markdown",
      "source": [
        "Answer Here"
      ],
      "metadata": {
        "id": "ozQPc2_Ip1cl"
      }
    },
    {
      "cell_type": "markdown",
      "source": [
        "##### 3. Will the gained insights help creating a positive business impact?\n",
        "Are there any insights that lead to negative growth? Justify with specific reason."
      ],
      "metadata": {
        "id": "3MPXvC8up1cl"
      }
    },
    {
      "cell_type": "markdown",
      "source": [
        "Answer Here"
      ],
      "metadata": {
        "id": "GL8l1tdLp1cl"
      }
    },
    {
      "cell_type": "markdown",
      "source": [
        "#### Chart - 14 - Correlation Heatmap"
      ],
      "metadata": {
        "id": "NC_X3p0fY2L0"
      }
    },
    {
      "cell_type": "code",
      "source": [
        "# Correlation Heatmap visualization code"
      ],
      "metadata": {
        "id": "xyC9zolEZNRQ"
      },
      "execution_count": null,
      "outputs": []
    },
    {
      "cell_type": "markdown",
      "source": [
        "##### 1. Why did you pick the specific chart?"
      ],
      "metadata": {
        "id": "UV0SzAkaZNRQ"
      }
    },
    {
      "cell_type": "markdown",
      "source": [
        "Answer Here."
      ],
      "metadata": {
        "id": "DVPuT8LYZNRQ"
      }
    },
    {
      "cell_type": "markdown",
      "source": [
        "##### 2. What is/are the insight(s) found from the chart?"
      ],
      "metadata": {
        "id": "YPEH6qLeZNRQ"
      }
    },
    {
      "cell_type": "markdown",
      "source": [
        "Answer Here"
      ],
      "metadata": {
        "id": "bfSqtnDqZNRR"
      }
    },
    {
      "cell_type": "markdown",
      "source": [
        "#### Chart - 15 - Pair Plot"
      ],
      "metadata": {
        "id": "q29F0dvdveiT"
      }
    },
    {
      "cell_type": "code",
      "source": [
        "# Pair Plot visualization code"
      ],
      "metadata": {
        "id": "o58-TEIhveiU"
      },
      "execution_count": null,
      "outputs": []
    },
    {
      "cell_type": "markdown",
      "source": [
        "##### 1. Why did you pick the specific chart?"
      ],
      "metadata": {
        "id": "EXh0U9oCveiU"
      }
    },
    {
      "cell_type": "markdown",
      "source": [
        "Answer Here."
      ],
      "metadata": {
        "id": "eMmPjTByveiU"
      }
    },
    {
      "cell_type": "markdown",
      "source": [
        "##### 2. What is/are the insight(s) found from the chart?"
      ],
      "metadata": {
        "id": "22aHeOlLveiV"
      }
    },
    {
      "cell_type": "markdown",
      "source": [
        "Answer Here"
      ],
      "metadata": {
        "id": "uPQ8RGwHveiV"
      }
    },
    {
      "cell_type": "markdown",
      "source": [
        "## **5. Solution to Business Objective**"
      ],
      "metadata": {
        "id": "JcMwzZxoAimU"
      }
    },
    {
      "cell_type": "markdown",
      "source": [
        "#### What do you suggest the client to achieve Business Objective ?\n",
        "Explain Briefly."
      ],
      "metadata": {
        "id": "8G2x9gOozGDZ"
      }
    },
    {
      "cell_type": "markdown",
      "source": [
        "Answer Here."
      ],
      "metadata": {
        "id": "pASKb0qOza21"
      }
    },
    {
      "cell_type": "markdown",
      "source": [
        "# **Conclusion**"
      ],
      "metadata": {
        "id": "gCX9965dhzqZ"
      }
    },
    {
      "cell_type": "markdown",
      "source": [
        "Write the conclusion here."
      ],
      "metadata": {
        "id": "Fjb1IsQkh3yE"
      }
    },
    {
      "cell_type": "markdown",
      "source": [
        "### ***Hurrah! You have successfully completed your EDA Capstone Project !!!***"
      ],
      "metadata": {
        "id": "gIfDvo9L0UH2"
      }
    }
  ]
}